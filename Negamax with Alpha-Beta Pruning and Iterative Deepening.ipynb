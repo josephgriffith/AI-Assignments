{
 "cells": [
  {
   "cell_type": "markdown",
   "metadata": {},
   "source": [
    "# Negamax with Alpha-Beta Pruning and Iterative Deepening"
   ]
  },
  {
   "cell_type": "markdown",
   "metadata": {},
   "source": [
    "Joseph Griffith"
   ]
  },
  {
   "cell_type": "markdown",
   "metadata": {},
   "source": [
    "Investigating the advantages of alpha-beta pruning applied to Tic-Tac-Toe."
   ]
  },
  {
   "cell_type": "markdown",
   "metadata": {},
   "source": [
    "# Classes"
   ]
  },
  {
   "cell_type": "markdown",
   "metadata": {},
   "source": [
    "## Tic Tac Toe "
   ]
  },
  {
   "cell_type": "code",
   "execution_count": 69,
   "metadata": {
    "collapsed": true
   },
   "outputs": [],
   "source": [
    "class TTT(object):\n",
    "\n",
    "    def __init__(self):\n",
    "        self.board = [' ']*9   #multiplies only the elements into a list\n",
    "        self.player = 'X'\n",
    "        if False:\n",
    "            #self.board = ['O', 'X', ' ', 'O', ' ', ' ', ' ', 'X', ' ']\n",
    "            #startBoard = ['O', 'X', 'X', 'O', 'O', ' ', ' ', 'X', ' ']\n",
    "            #startBoard = ['O', 'X', 'X', 'O', 'O', ' ', ' ', 'X', ' ']\n",
    "            #startBoard = ['O', 'X', 'X', 'O', 'O', ' ', ' ', 'X', ' ']\n",
    "            self.board = ['X', 'X', ' ', 'X', 'O', 'O', ' ', ' ', ' ']\n",
    "            self.player = 'O'\n",
    "        self.playerLookAHead = self.player\n",
    "        self.movesExplored = 0\n",
    "\n",
    "    def locations(self, c):\n",
    "        return [i for i, mark in enumerate(self.board) if mark == c]\n",
    "\n",
    "    def getMoves(self):\n",
    "        moves = self.locations(' ')\n",
    "        return moves\n",
    "\n",
    "    def getUtility(self):\n",
    "        whereX = self.locations('X')\n",
    "        whereO = self.locations('O')\n",
    "\n",
    "        #0|1|2\n",
    "        #3|4|5\n",
    "        #6|7|8\n",
    "        wins = [[0, 1, 2], [3, 4, 5], [6, 7, 8],   #rows\n",
    "                [0, 3, 6], [1, 4, 7], [2, 5, 8],   #columns\n",
    "                [0, 4, 8], [2, 4, 6]]              #diagonals\n",
    "        isXWon = any([all([wi in whereX for wi in w]) for w in wins])\n",
    "        isOWon = any([all([wi in whereO for wi in w]) for w in wins])\n",
    "        if isXWon:\n",
    "            return 1 if self.playerLookAHead is 'X' else -1\n",
    "        elif isOWon:\n",
    "            return 1 if self.playerLookAHead is 'O' else -1\n",
    "        elif ' ' not in self.board:\n",
    "            return 0\n",
    "        else:\n",
    "            return None  ########################################################## CHANGED FROM -0.1\n",
    "\n",
    "    def isOver(self):\n",
    "        return self.getUtility() is not None\n",
    "\n",
    "    def makeMove(self, move):\n",
    "        self.movesExplored += 1\n",
    "        self.board[move] = self.playerLookAHead\n",
    "        self.playerLookAHead = 'X' if self.playerLookAHead == 'O' else 'O'\n",
    "\n",
    "    def changePlayer(self):\n",
    "        self.player = 'X' if self.player == 'O' else 'O'\n",
    "        self.playerLookAHead = self.player\n",
    "\n",
    "    def unmakeMove(self, move):\n",
    "        self.board[move] = ' '\n",
    "        self.playerLookAHead = 'X' if self.playerLookAHead == 'O' else 'O'\n",
    "\n",
    "    \n",
    "    def __str__(self):\n",
    "        #s = '{}|{}|{}\\n-----\\n{}|{}|{}\\n-----\\n{}|{}|{}'.format(*self.board)     #for a roomier board\n",
    "        s = '\\033[4m{}|{}|{}\\n{}|{}|{}\\n\\033[0m{}|{}|{}\\n'.format(*self.board)     #for a more compact board\n",
    "        return s\n",
    "\n",
    "    \n",
    "    def getWinningValue(self):\n",
    "        return 1\n",
    "    \n",
    "    def getBestMove(self, move1, move2):\n",
    "        return move1 if (move1>move2) else move2\n",
    "        \n",
    "    def getNumberMovesExplored(self):\n",
    "        return self.movesExplored"
   ]
  },
  {
   "cell_type": "markdown",
   "metadata": {},
   "source": [
    "# Functions - "
   ]
  },
  {
   "cell_type": "markdown",
   "metadata": {},
   "source": [
    "## negamax()"
   ]
  },
  {
   "cell_type": "code",
   "execution_count": 70,
   "metadata": {
    "collapsed": true
   },
   "outputs": [],
   "source": [
    "def negamax(game, depthLeft):\n",
    "    # If at terminal state or depth limit, return utility value and move None\n",
    "    if game.isOver() or depthLeft == 0:\n",
    "        return game.getUtility(), None # call to negamax knows the move\n",
    "    # Find best move and its value from current state\n",
    "    bestValue, bestMove = None, None\n",
    "    for move in game.getMoves():\n",
    "        # Apply a move to current state\n",
    "        game.makeMove(move)\n",
    "        # Use depth-first search to find eventual utility value and back it up.\n",
    "        #  Negate it because it will come back in context of next player\n",
    "        value, _ = negamax(game, depthLeft-1)   #if value == none, continue...\n",
    "        # Remove the move from current state, to prepare for trying a different move\n",
    "        game.unmakeMove(move)\n",
    "        if value is None:\n",
    "            continue\n",
    "        value = - value\n",
    "        if bestValue is None or value > bestValue:\n",
    "            # Value for this move is better than moves tried so far from this state.\n",
    "            bestValue, bestMove = value, move\n",
    "    return bestValue, bestMove"
   ]
  },
  {
   "cell_type": "markdown",
   "metadata": {},
   "source": [
    "## opponent()"
   ]
  },
  {
   "cell_type": "code",
   "execution_count": 71,
   "metadata": {
    "collapsed": true
   },
   "outputs": [],
   "source": [
    "def opponent(board):\n",
    "    return board.index(' ')   #just puts an O on the next blank"
   ]
  },
  {
   "cell_type": "markdown",
   "metadata": {},
   "source": [
    "## playGame()"
   ]
  },
  {
   "cell_type": "code",
   "execution_count": 72,
   "metadata": {
    "collapsed": true
   },
   "outputs": [],
   "source": [
    "def playGame(game,opponent,depthLimit):\n",
    "    print(game)\n",
    "    while not game.isOver():   #check if O won\n",
    "        #score, move = negamax(game,depthLimit)   #controls IDS numbers for NM\n",
    "        score, move = negamaxIDS(game,depthLimit)   #controls IDS numbers for NM\n",
    "        if move == None :\n",
    "            print('move is None. Stopping.')\n",
    "            break\n",
    "        game.makeMove(move)\n",
    "        print('Player', game.player, 'to', move, 'for score' ,score)\n",
    "        print(game)\n",
    "        if not game.isOver():   #check if X won\n",
    "            game.changePlayer()\n",
    "            opponentMove = opponent(game.board)\n",
    "            game.makeMove(opponentMove)\n",
    "            #print('Player', game.player, 'to', move)    #printing out the wrong player's move\n",
    "            print('Player', game.player, 'to', opponentMove)   ### FIXED ERROR IN THIS LINE!\n",
    "            print(game)\n",
    "            game.changePlayer()"
   ]
  },
  {
   "cell_type": "markdown",
   "metadata": {},
   "source": [
    "## ebf()"
   ]
  },
  {
   "cell_type": "code",
   "execution_count": 73,
   "metadata": {
    "collapsed": true
   },
   "outputs": [],
   "source": [
    "def ebf(nNodes, depth, precision=0.01):\n",
    "    if nNodes == 0:\n",
    "        return 0\n",
    "\n",
    "    def ebfRec(low, high):\n",
    "        mid = (low + high) * 0.5\n",
    "        if mid == 1:\n",
    "            estimate = 1 + depth\n",
    "        else:\n",
    "            estimate = (1 - mid**(depth + 1)) / (1 - mid)\n",
    "        if abs(estimate - nNodes) < precision:\n",
    "            return mid\n",
    "        if estimate > nNodes:\n",
    "            return ebfRec(low, mid)\n",
    "        else:\n",
    "            return ebfRec(mid, high)\n",
    "\n",
    "    return ebfRec(1, nNodes)"
   ]
  },
  {
   "cell_type": "markdown",
   "metadata": {},
   "source": [
    "## negamaxIDS()"
   ]
  },
  {
   "cell_type": "code",
   "execution_count": 74,
   "metadata": {
    "collapsed": true
   },
   "outputs": [],
   "source": [
    "def negamaxIDS(game, depthLimit):\n",
    "    for i in range(1, depthLimit+1):\n",
    "        #print('~~~~~~~~~~~~~~~~~ Game ' + str(i) + ' Start! ~~~~~~~~~~~~~~~~~')\n",
    "        bestValue, bestMove = negamax(game, i)\n",
    "#print('win: ', game.getWinningValue(), ', isover: ', game.isOver(), ', score: ', bestValue, ', move: ', bestMove)\n",
    "        if game.getWinningValue() == bestValue:\n",
    "            return bestValue, bestMove\n",
    "    return bestValue, bestMove"
   ]
  },
  {
   "cell_type": "code",
   "execution_count": 75,
   "metadata": {},
   "outputs": [
    {
     "name": "stdout",
     "output_type": "stream",
     "text": [
      "\u001b[4m | | \n",
      " | | \n",
      "\u001b[0m | | \n",
      "\n",
      "Player X to 0 for score 1\n",
      "\u001b[4mX| | \n",
      " | | \n",
      "\u001b[0m | | \n",
      "\n",
      "Player O to 1\n",
      "\u001b[4mX|O| \n",
      " | | \n",
      "\u001b[0m | | \n",
      "\n",
      "Player X to 3 for score 1\n",
      "\u001b[4mX|O| \n",
      "X| | \n",
      "\u001b[0m | | \n",
      "\n",
      "Player O to 2\n",
      "\u001b[4mX|O|O\n",
      "X| | \n",
      "\u001b[0m | | \n",
      "\n",
      "Player X to 6 for score 1\n",
      "\u001b[4mX|O|O\n",
      "X| | \n",
      "\u001b[0mX| | \n",
      "\n"
     ]
    }
   ],
   "source": [
    "#print(game.getMoves())\n",
    "game = TTT()\n",
    "playGame(game, opponent, 10)"
   ]
  },
  {
   "cell_type": "code",
   "execution_count": 76,
   "metadata": {},
   "outputs": [
    {
     "data": {
      "text/plain": [
       "True"
      ]
     },
     "execution_count": 76,
     "metadata": {},
     "output_type": "execute_result"
    }
   ],
   "source": [
    "game.isOver()"
   ]
  },
  {
   "cell_type": "code",
   "execution_count": 77,
   "metadata": {},
   "outputs": [
    {
     "name": "stdout",
     "output_type": "stream",
     "text": [
      "Number of moves explored 23338\n"
     ]
    }
   ],
   "source": [
    "print('Number of moves explored', game.getNumberMovesExplored())"
   ]
  },
  {
   "cell_type": "markdown",
   "metadata": {},
   "source": [
    "## negamaxIDSab()"
   ]
  },
  {
   "cell_type": "code",
   "execution_count": 78,
   "metadata": {
    "collapsed": true
   },
   "outputs": [],
   "source": [
    "def negamaxIDSab(game, depthLimit):\n",
    "    alpha = float('-inf')\n",
    "    beta = float('inf')\n",
    "    for i in range(1, depthLimit+1):\n",
    "        bestValue, bestMove = negamaxab(game, i, alpha, beta)\n",
    "        if game.getWinningValue() == bestValue:\n",
    "            return bestValue, bestMove\n",
    "    return bestValue, bestMove"
   ]
  },
  {
   "cell_type": "markdown",
   "metadata": {},
   "source": [
    "## negamaxab()"
   ]
  },
  {
   "cell_type": "code",
   "execution_count": 79,
   "metadata": {
    "collapsed": true
   },
   "outputs": [],
   "source": [
    "def negamaxab(game, depthLeft, alpha, beta):\n",
    "    # If at terminal state or depth limit, return utility value and move None\n",
    "    if game.isOver() or depthLeft == 0:\n",
    "        return game.getUtility(), None # call to negamax knows the move\n",
    "    # Find best move and its value from current state\n",
    "    bestValue, bestMove = None, None\n",
    "    for move in game.getMoves():\n",
    "        # Apply a move to current state\n",
    "        game.makeMove(move)\n",
    "        # Use depth-first search to find eventual utility value and back it up.\n",
    "        #  Negate it because it will come back in context of next player\n",
    "        value, _ = negamaxab(game, depthLeft-1, -beta, -alpha)   #if value == none, continue...\n",
    "        # Remove the move from current state, to prepare for trying a different move\n",
    "        game.unmakeMove(move)\n",
    "        if value is None:\n",
    "            continue\n",
    "        value = - value\n",
    "        if bestValue is None or value > bestValue:\n",
    "            # Value for this move is better than moves tried so far from this state.\n",
    "            bestValue, bestMove = value, move\n",
    "        if bestValue >= beta:\n",
    "            return bestValue, bestMove\n",
    "        alpha = bestValue if bestValue > alpha else alpha\n",
    "    return bestValue, bestMove"
   ]
  },
  {
   "cell_type": "markdown",
   "metadata": {},
   "source": [
    "## gamePlayer()"
   ]
  },
  {
   "cell_type": "code",
   "execution_count": 80,
   "metadata": {
    "collapsed": true
   },
   "outputs": [],
   "source": [
    "def gamePlayer(game,opponent,depthLimit, nmF):\n",
    "    print(game)\n",
    "    while not game.isOver():   #check if O won\n",
    "        score, move = nmF(game,depthLimit)   #controls IDS numbers for NM\n",
    "        if move == None :\n",
    "            print('move is None. Stopping.')\n",
    "            break\n",
    "        game.makeMove(move)\n",
    "        print('Player', game.player, 'to', move, 'for score' ,score)\n",
    "        print(game)\n",
    "        if not game.isOver():   #check if X won\n",
    "            game.changePlayer()\n",
    "            opponentMove = opponent(game.board)\n",
    "            game.makeMove(opponentMove)\n",
    "            #print('Player', game.player, 'to', move)    #printing out the wrong player's move\n",
    "            print('Player', game.player, 'to', opponentMove)   ### FIXED ERROR IN THIS LINE!\n",
    "            print(game)\n",
    "            game.changePlayer()"
   ]
  },
  {
   "cell_type": "markdown",
   "metadata": {},
   "source": [
    "## playGames()"
   ]
  },
  {
   "cell_type": "code",
   "execution_count": 81,
   "metadata": {
    "collapsed": true
   },
   "outputs": [],
   "source": [
    "def playGames(opponent, depthLimit):\n",
    "    algs = ['negamax', 'negamaxIDS', 'negamaxIDSab']\n",
    "    strings = []\n",
    "    for i in range(3):\n",
    "        game = TTT()\n",
    "        print('~~~~~~~~~~~~~~~~~ ' + algs[i] + ' ~~~~~~~~~~~~~~~~~')    \n",
    "        if i == 0:\n",
    "            gamePlayer(game, opponent, depthLimit, negamax) \n",
    "        elif i == 1:\n",
    "            gamePlayer(game, opponent, depthLimit, negamaxIDS) \n",
    "        elif i == 2: \n",
    "            gamePlayer(game, opponent, depthLimit, negamaxIDSab) \n",
    "        xmoves = game.board.count('X')\n",
    "        moves = game.getNumberMovesExplored()\n",
    "        depth = xmoves + game.board.count('O')\n",
    "        #print('negamax made {} moves.\\t {} moves explored for ebf({}, {}) of {}'.format(xmoves, moves, moves, depth, ebf(moves, depth)))\n",
    "        strings.append('negamax made {} moves.\\t {} moves explored for an\\tebf({}, {}) of \\t{}'.format(xmoves, moves, moves, depth, ebf(moves, depth)))\n",
    "    #print(list(strings))\n",
    "    for i in range(3):\n",
    "        print(strings[i])"
   ]
  },
  {
   "cell_type": "code",
   "execution_count": 82,
   "metadata": {
    "scrolled": false
   },
   "outputs": [
    {
     "name": "stdout",
     "output_type": "stream",
     "text": [
      "~~~~~~~~~~~~~~~~~ negamax ~~~~~~~~~~~~~~~~~\n",
      "\u001b[4m | | \n",
      " | | \n",
      "\u001b[0m | | \n",
      "\n",
      "Player X to 0 for score 0\n",
      "\u001b[4mX| | \n",
      " | | \n",
      "\u001b[0m | | \n",
      "\n",
      "Player O to 1\n",
      "\u001b[4mX|O| \n",
      " | | \n",
      "\u001b[0m | | \n",
      "\n",
      "Player X to 3 for score 1\n",
      "\u001b[4mX|O| \n",
      "X| | \n",
      "\u001b[0m | | \n",
      "\n",
      "Player O to 2\n",
      "\u001b[4mX|O|O\n",
      "X| | \n",
      "\u001b[0m | | \n",
      "\n",
      "Player X to 4 for score 1\n",
      "\u001b[4mX|O|O\n",
      "X|X| \n",
      "\u001b[0m | | \n",
      "\n",
      "Player O to 5\n",
      "\u001b[4mX|O|O\n",
      "X|X|O\n",
      "\u001b[0m | | \n",
      "\n",
      "Player X to 6 for score 1\n",
      "\u001b[4mX|O|O\n",
      "X|X|O\n",
      "\u001b[0mX| | \n",
      "\n",
      "~~~~~~~~~~~~~~~~~ negamaxIDS ~~~~~~~~~~~~~~~~~\n",
      "\u001b[4m | | \n",
      " | | \n",
      "\u001b[0m | | \n",
      "\n",
      "Player X to 0 for score 1\n",
      "\u001b[4mX| | \n",
      " | | \n",
      "\u001b[0m | | \n",
      "\n",
      "Player O to 1\n",
      "\u001b[4mX|O| \n",
      " | | \n",
      "\u001b[0m | | \n",
      "\n",
      "Player X to 3 for score 1\n",
      "\u001b[4mX|O| \n",
      "X| | \n",
      "\u001b[0m | | \n",
      "\n",
      "Player O to 2\n",
      "\u001b[4mX|O|O\n",
      "X| | \n",
      "\u001b[0m | | \n",
      "\n",
      "Player X to 6 for score 1\n",
      "\u001b[4mX|O|O\n",
      "X| | \n",
      "\u001b[0mX| | \n",
      "\n",
      "~~~~~~~~~~~~~~~~~ negamaxIDSab ~~~~~~~~~~~~~~~~~\n",
      "\u001b[4m | | \n",
      " | | \n",
      "\u001b[0m | | \n",
      "\n",
      "Player X to 0 for score 1\n",
      "\u001b[4mX| | \n",
      " | | \n",
      "\u001b[0m | | \n",
      "\n",
      "Player O to 1\n",
      "\u001b[4mX|O| \n",
      " | | \n",
      "\u001b[0m | | \n",
      "\n",
      "Player X to 3 for score 1\n",
      "\u001b[4mX|O| \n",
      "X| | \n",
      "\u001b[0m | | \n",
      "\n",
      "Player O to 2\n",
      "\u001b[4mX|O|O\n",
      "X| | \n",
      "\u001b[0m | | \n",
      "\n",
      "Player X to 6 for score 1\n",
      "\u001b[4mX|O|O\n",
      "X| | \n",
      "\u001b[0mX| | \n",
      "\n",
      "negamax made 4 moves.\t 558334 moves explored for an\tebf(558334, 7) of \t6.46486057422959\n",
      "negamax made 3 moves.\t 23338 moves explored for an\tebf(23338, 5) of \t7.256619912863243\n",
      "negamax made 3 moves.\t 6053 moves explored for an\tebf(6053, 5) of \t5.481535192579031\n"
     ]
    }
   ],
   "source": [
    "game = TTT()\n",
    "playGames(opponent, 10)"
   ]
  },
  {
   "cell_type": "markdown",
   "metadata": {},
   "source": [
    "* With vanilla negamax, the solution is not optimal because X could have won on it's 3rd turn, but chose a non-winning move instead. IDS and IDSab picked optimal paths to win.\n",
    "* Each successive algorithm significantly reduces the number of nodes that it needs to explore, leading to huge decreases in run times.\n",
    "* The EBF also decreases, in this instance, with the exception of IDS. Having saved two moves over negamax, IDS's EBF actually went up."
   ]
  },
  {
   "cell_type": "code",
   "execution_count": 83,
   "metadata": {
    "collapsed": true
   },
   "outputs": [],
   "source": [
    "from time import time"
   ]
  },
  {
   "cell_type": "code",
   "execution_count": 84,
   "metadata": {
    "collapsed": true
   },
   "outputs": [],
   "source": [
    "def timeNM(opponent, depthLimit, nmF):\n",
    "    start = time()\n",
    "    game = TTT()\n",
    "    gamePlayer(game, opponent, depthLimit, nmF)\n",
    "    difference = time()-start\n",
    "    print('time taken: ', difference)"
   ]
  },
  {
   "cell_type": "code",
   "execution_count": 85,
   "metadata": {},
   "outputs": [
    {
     "name": "stdout",
     "output_type": "stream",
     "text": [
      "\u001b[4m | | \n",
      " | | \n",
      "\u001b[0m | | \n",
      "\n",
      "Player X to 0 for score 0\n",
      "\u001b[4mX| | \n",
      " | | \n",
      "\u001b[0m | | \n",
      "\n",
      "Player O to 1\n",
      "\u001b[4mX|O| \n",
      " | | \n",
      "\u001b[0m | | \n",
      "\n",
      "Player X to 3 for score 1\n",
      "\u001b[4mX|O| \n",
      "X| | \n",
      "\u001b[0m | | \n",
      "\n",
      "Player O to 2\n",
      "\u001b[4mX|O|O\n",
      "X| | \n",
      "\u001b[0m | | \n",
      "\n",
      "Player X to 4 for score 1\n",
      "\u001b[4mX|O|O\n",
      "X|X| \n",
      "\u001b[0m | | \n",
      "\n",
      "Player O to 5\n",
      "\u001b[4mX|O|O\n",
      "X|X|O\n",
      "\u001b[0m | | \n",
      "\n",
      "Player X to 6 for score 1\n",
      "\u001b[4mX|O|O\n",
      "X|X|O\n",
      "\u001b[0mX| | \n",
      "\n",
      "time taken:  15.784443140029907\n"
     ]
    }
   ],
   "source": [
    "timeNM(opponent, 10, negamax)"
   ]
  },
  {
   "cell_type": "code",
   "execution_count": 86,
   "metadata": {},
   "outputs": [
    {
     "name": "stdout",
     "output_type": "stream",
     "text": [
      "\u001b[4m | | \n",
      " | | \n",
      "\u001b[0m | | \n",
      "\n",
      "Player X to 0 for score 1\n",
      "\u001b[4mX| | \n",
      " | | \n",
      "\u001b[0m | | \n",
      "\n",
      "Player O to 1\n",
      "\u001b[4mX|O| \n",
      " | | \n",
      "\u001b[0m | | \n",
      "\n",
      "Player X to 3 for score 1\n",
      "\u001b[4mX|O| \n",
      "X| | \n",
      "\u001b[0m | | \n",
      "\n",
      "Player O to 2\n",
      "\u001b[4mX|O|O\n",
      "X| | \n",
      "\u001b[0m | | \n",
      "\n",
      "Player X to 6 for score 1\n",
      "\u001b[4mX|O|O\n",
      "X| | \n",
      "\u001b[0mX| | \n",
      "\n",
      "time taken:  0.7526190280914307\n"
     ]
    }
   ],
   "source": [
    "timeNM(opponent, 10, negamaxIDS)"
   ]
  },
  {
   "cell_type": "code",
   "execution_count": 87,
   "metadata": {},
   "outputs": [
    {
     "name": "stdout",
     "output_type": "stream",
     "text": [
      "\u001b[4m | | \n",
      " | | \n",
      "\u001b[0m | | \n",
      "\n",
      "Player X to 0 for score 1\n",
      "\u001b[4mX| | \n",
      " | | \n",
      "\u001b[0m | | \n",
      "\n",
      "Player O to 1\n",
      "\u001b[4mX|O| \n",
      " | | \n",
      "\u001b[0m | | \n",
      "\n",
      "Player X to 3 for score 1\n",
      "\u001b[4mX|O| \n",
      "X| | \n",
      "\u001b[0m | | \n",
      "\n",
      "Player O to 2\n",
      "\u001b[4mX|O|O\n",
      "X| | \n",
      "\u001b[0m | | \n",
      "\n",
      "Player X to 6 for score 1\n",
      "\u001b[4mX|O|O\n",
      "X| | \n",
      "\u001b[0mX| | \n",
      "\n",
      "time taken:  0.23753118515014648\n"
     ]
    }
   ],
   "source": [
    "timeNM(opponent, 10, negamaxIDSab)"
   ]
  },
  {
   "cell_type": "markdown",
   "metadata": {},
   "source": [
    "# Grading"
   ]
  },
  {
   "cell_type": "code",
   "execution_count": 88,
   "metadata": {},
   "outputs": [
    {
     "name": "stdout",
     "output_type": "stream",
     "text": [
      "\n",
      "Testing negamax starting from ['O', 'X', ' ', 'O', ' ', ' ', ' ', 'X', ' ']\n",
      "\n",
      "--- 10/10 points. negamax correctly returns value of 1\n",
      "\n",
      "--- 10/10 points. negamax correctly explored 124 states.\n",
      "\n",
      "Testing negamax starting from ['O', 'X', 'X', 'O', 'O', ' ', ' ', 'X', ' ']\n",
      "\n",
      "--- 10/10 points. negamax correctly returns value of -1 and move of 5\n",
      "\n",
      "Testing negamaxIDS with max depth of 5, starting from ['O', 'X', 'X', 'O', 'O', ' ', ' ', 'X', ' ']\n",
      "\n",
      "--- 10/10 points. negamaxIDS correctly returns value of -1 and move of 5\n",
      "\n",
      "Testing negamaxIDSab starting from ['O', 'X', 'X', 'O', 'O', ' ', ' ', 'X', ' ']\n",
      "\n",
      "--- 20/20 points. negamaxIDSab correctly returns value of -1 and move of 5\n",
      "\n",
      "Testing playGame with opponent that always plays in highest numbered position.\n",
      "\u001b[4m | | \n",
      " | | \n",
      "\u001b[0m | | \n",
      "\n",
      "Player X to 0 for score 0\n",
      "\u001b[4mX| | \n",
      " | | \n",
      "\u001b[0m | | \n",
      "\n",
      "Player O to 8\n",
      "\u001b[4mX| | \n",
      " | | \n",
      "\u001b[0m | |O\n",
      "\n",
      "Player X to 2 for score 1\n",
      "\u001b[4mX| |X\n",
      " | | \n",
      "\u001b[0m | |O\n",
      "\n",
      "Player O to 7\n",
      "\u001b[4mX| |X\n",
      " | | \n",
      "\u001b[0m |O|O\n",
      "\n",
      "Player X to 1 for score 1\n",
      "\u001b[4mX|X|X\n",
      " | | \n",
      "\u001b[0m |O|O\n",
      "\n",
      "\n",
      "--- 10/10 points. playGame correctly wins by filling top row with Xs.\n",
      "\n",
      "C:\\Users\\BadMan\\Google Drive\\CS 440-001 (Introduction to Artificial Intelligence)\\Assignments Execution Grade is 70/70\n",
      "\n",
      " Remaining 30 points will be based on the output of your playGames function.\n",
      "\n",
      "C:\\Users\\BadMan\\Google Drive\\CS 440-001 (Introduction to Artificial Intelligence)\\Assignments FINAL GRADE is __/100\n"
     ]
    }
   ],
   "source": [
    "%run -i grader.py"
   ]
  },
  {
   "cell_type": "code",
   "execution_count": null,
   "metadata": {
    "collapsed": true
   },
   "outputs": [],
   "source": []
  },
  {
   "cell_type": "code",
   "execution_count": null,
   "metadata": {
    "collapsed": true
   },
   "outputs": [],
   "source": []
  },
  {
   "cell_type": "code",
   "execution_count": null,
   "metadata": {
    "collapsed": true
   },
   "outputs": [],
   "source": []
  },
  {
   "cell_type": "code",
   "execution_count": null,
   "metadata": {
    "collapsed": true
   },
   "outputs": [],
   "source": []
  },
  {
   "cell_type": "code",
   "execution_count": null,
   "metadata": {
    "collapsed": true
   },
   "outputs": [],
   "source": []
  },
  {
   "cell_type": "code",
   "execution_count": null,
   "metadata": {
    "collapsed": true
   },
   "outputs": [],
   "source": []
  }
 ],
 "metadata": {
  "kernelspec": {
   "display_name": "Python 3",
   "language": "python",
   "name": "python3"
  },
  "language_info": {
   "codemirror_mode": {
    "name": "ipython",
    "version": 3
   },
   "file_extension": ".py",
   "mimetype": "text/x-python",
   "name": "python",
   "nbconvert_exporter": "python",
   "pygments_lexer": "ipython3",
   "version": "3.6.1"
  }
 },
 "nbformat": 4,
 "nbformat_minor": 2
}
