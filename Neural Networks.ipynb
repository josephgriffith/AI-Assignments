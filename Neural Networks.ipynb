{
 "cells": [
  {
   "cell_type": "markdown",
   "metadata": {},
   "source": [
    "$\\newcommand{\\xv}{\\mathbf{x}}\n",
    "\\newcommand{\\Xv}{\\mathbf{X}}\n",
    "\\newcommand{\\yv}{\\mathbf{y}}\n",
    "\\newcommand{\\zv}{\\mathbf{z}}\n",
    "\\newcommand{\\av}{\\mathbf{a}}\n",
    "\\newcommand{\\Wv}{\\mathbf{W}}\n",
    "\\newcommand{\\wv}{\\mathbf{w}}\n",
    "\\newcommand{\\tv}{\\mathbf{t}}\n",
    "\\newcommand{\\Tv}{\\mathbf{T}}\n",
    "\\newcommand{\\muv}{\\boldsymbol{\\mu}}\n",
    "\\newcommand{\\sigmav}{\\boldsymbol{\\sigma}}\n",
    "\\newcommand{\\phiv}{\\boldsymbol{\\phi}}\n",
    "\\newcommand{\\Phiv}{\\boldsymbol{\\Phi}}\n",
    "\\newcommand{\\Sigmav}{\\boldsymbol{\\Sigma}}\n",
    "\\newcommand{\\Lambdav}{\\boldsymbol{\\Lambda}}\n",
    "\\newcommand{\\half}{\\frac{1}{2}}\n",
    "\\newcommand{\\argmax}[1]{\\underset{#1}{\\operatorname{argmax}}}\n",
    "\\newcommand{\\argmin}[1]{\\underset{#1}{\\operatorname{argmin}}}$"
   ]
  },
  {
   "cell_type": "markdown",
   "metadata": {},
   "source": [
    "# Neural Networks"
   ]
  },
  {
   "cell_type": "markdown",
   "metadata": {},
   "source": [
    "Joseph Griffith"
   ]
  },
  {
   "cell_type": "markdown",
   "metadata": {},
   "source": [
    "## Overview\n",
    "I will train various neural network configurations on two sets of data, to do regression and classification, in order to find which configurations work best for each."
   ]
  },
  {
   "cell_type": "markdown",
   "metadata": {},
   "source": [
    "# Functions - "
   ]
  },
  {
   "cell_type": "code",
   "execution_count": 15,
   "metadata": {
    "collapsed": true
   },
   "outputs": [],
   "source": [
    "import neuralnetworks as nn\n",
    "import numpy as np"
   ]
  },
  {
   "cell_type": "code",
   "execution_count": null,
   "metadata": {
    "collapsed": true
   },
   "outputs": [],
   "source": [
    "#returns results which is list with one element for each network structure tested. Each element is a list containing\n",
    "   #the hidden layer structure (as a list),\n",
    "   #a list of training data performance for each repetition,\n",
    "   #a list of testing data performance for each repetition, and\n",
    "   #the number of seconds it took to run this many repetitions for this network structure.\n",
    "\n",
    "#X is a matrix of input data of shape nSamples x nFeatures\n",
    "#T is a matrix of target data of shape nSamples x nOutputs\n",
    "#trainFraction is fraction of samples to use as training data. \n",
    "   #1-trainFraction is number of samples for testing data\n",
    "#hiddenLayerStructures is list of network architectures. \n",
    "   #For example, to test two networks, one with one hidden layer of 20 units, and one with 3 hidden layers with \n",
    "       #5, 10, and 20 units in each layer, this argument would be [[20], [5, 10, 20]].\n",
    "#numberRepetitions is number of times to train a neural network. \n",
    "   #Calculate training and testing average performance (two separate averages) of this many training runs.\n",
    "#numberIterations is the number of iterations to run the scaled conjugate gradient algorithm when a \n",
    "   #neural network is trained.\n",
    "#classify is set to True if you are doing a classification problem, in which case T must be a single column of \n",
    "   #target class integers."
   ]
  },
  {
   "cell_type": "code",
   "execution_count": 3,
   "metadata": {
    "collapsed": true
   },
   "outputs": [],
   "source": [
    "def trainNNs(X, T, trainFraction, hiddenLayerStructures, numberRepetitions, numberIterations, classify):\n",
    "    import mlutils as ml \n",
    "    from time import time as tm\n",
    "    #[ [ [hidden structure element 0], [each rep train error], [each rep test error], total seconds ],\n",
    "    #     ...\n",
    "    #  [ [hidden structure element n], [each rep train error], [each rep test error], total seconds ] ]\n",
    "    results = []\n",
    "    for hidden in hiddenLayerStructures:\n",
    "        start = tm()\n",
    "        #results.append(hidden)\n",
    "        #print('hidden: ', hidden)\n",
    "        structure = []\n",
    "        structure.append(hidden)\n",
    "        trainE = []\n",
    "        testE = []\n",
    "        for rep in range(numberRepetitions):\n",
    "            #see 2017/11/16 lecture ~40min for use/results!\n",
    "            Xtrain, Ttrain, Xtest, Ttest = ml.partition(X,T,(trainFraction, 1-trainFraction), classify)\n",
    "            #print('partition check: ', Xtrain.shape, Ttrain.shape, Xtest.shape, Ttest.shape)\n",
    "            #Create a neural network of the given structure\n",
    "            if classify:\n",
    "                nnet = nn.NeuralNetworkClassifier(Xtrain.shape[1], hidden, len(np.unique(Ttrain)))\n",
    "            else:\n",
    "                nnet = nn.NeuralNetwork(Xtrain.shape[1], hidden, Ttrain.shape[1]) \n",
    "            #Train it for numberIterations\n",
    "            nnet.train(Xtrain, Ttrain, numberIterations) #, True)\n",
    "            #Use the trained network to produce outputs for the training and for the testing sets\n",
    "            Ytrain = nnet.use(Xtrain)\n",
    "            Ytest = nnet.use(Xtest)\n",
    "            #If classifying, calculate the fraction of samples incorrectly classified for training and testing sets\n",
    "            # (# of samples incorrectly classified) / (total # samples)\n",
    "            if classify:\n",
    "                #Count the number of samples in the output from use() that do not agree with the corresponding \n",
    "                #values in Train, if you use()'d Xtrain as input, and in Xtest if you use()'d Xtest as input.\n",
    "                #Performance is now count of number of train (or test) samples incorrectly classified.  \n",
    "                #Done by comparing out of the use() method with the target labels in T.\n",
    "                \n",
    "                #print('classify train wrong: ', np.sum(Ytrain != Xtrain), ', len(train): ', len(Xtrain))\n",
    "                #print('classify test wrong: ', np.sum(Ytest != Ttest), ', len(test): ', len(Ttest))\n",
    "                trainError = np.sum(Ytrain != Xtrain)/len(Xtrain)\n",
    "                testError = np.sum(Ytest != Ttest)/len(Ttest)\n",
    "                #print('classify errors train: ', trainError, ', test: ', testError)\n",
    "            #Otherwise, calculate the RMSE of training and testing sets.\n",
    "            else:\n",
    "                trainError = np.sqrt(np.mean((Ytrain-Ttrain)**2))\n",
    "                testError = np.sqrt(np.mean((Ytest-Ttest)**2))\n",
    "                #print('regression errors train: ', trainError, ', test: ', testError)\n",
    "            #Add the training and testing performance to a collection (such as a list) for this network structure\n",
    "            trainE.append(trainError)\n",
    "            testE.append(testError)\n",
    "        #Add to a collection of all results the hidden layer structure, lists of training performance and \n",
    "            #testing performance, and seconds taken to do these repetitions.\n",
    "        structure.append(trainE)\n",
    "        structure.append(testE)\n",
    "        structure.append(tm()-start)\n",
    "        results.append(structure)\n",
    "    return results"
   ]
  },
  {
   "cell_type": "code",
   "execution_count": 4,
   "metadata": {
    "collapsed": true
   },
   "outputs": [],
   "source": [
    "#returns a list of lists like results but with the list of training performances replaced by their mean and \n",
    "    #the list of testing performances replaced by their mean.\n",
    "    #[[Hidden Layers], Average RMSE Training, Average RMSE Testing, seconds]\n",
    "def summarize(results):\n",
    "    summary = []\n",
    "    for i in range(len(results)):\n",
    "        summary.append(results[i])\n",
    "        summary[i][1] = sum(results[i][1])/len(results[i][1])\n",
    "        summary[i][2] = sum(results[i][2])/len(results[i][2])        \n",
    "    return summary"
   ]
  },
  {
   "cell_type": "code",
   "execution_count": 5,
   "metadata": {
    "collapsed": true
   },
   "outputs": [],
   "source": [
    "#returns the best element of results, determined by the element that has the smallest test performance.\n",
    "def bestNetwork(summary):\n",
    "    best = summary[0]\n",
    "    for i in range(1, len(summary)):\n",
    "        best = summary[i] if summary[i][2] < best[2] else best\n",
    "    return best"
   ]
  },
  {
   "cell_type": "markdown",
   "metadata": {
    "collapsed": true
   },
   "source": [
    "#### Random Tests"
   ]
  },
  {
   "cell_type": "markdown",
   "metadata": {
    "collapsed": true
   },
   "source": [
    "Checking default function argument behavior"
   ]
  },
  {
   "cell_type": "code",
   "execution_count": 6,
   "metadata": {
    "collapsed": true
   },
   "outputs": [],
   "source": [
    "def test(a=True, b=False):\n",
    "    print(a, b)"
   ]
  },
  {
   "cell_type": "code",
   "execution_count": 7,
   "metadata": {},
   "outputs": [
    {
     "name": "stdout",
     "output_type": "stream",
     "text": [
      "True False\n"
     ]
    }
   ],
   "source": [
    "test()"
   ]
  },
  {
   "cell_type": "code",
   "execution_count": 8,
   "metadata": {},
   "outputs": [
    {
     "name": "stdout",
     "output_type": "stream",
     "text": [
      "True True\n"
     ]
    }
   ],
   "source": [
    "test(True, True)"
   ]
  },
  {
   "cell_type": "markdown",
   "metadata": {},
   "source": [
    "Checking range behavior"
   ]
  },
  {
   "cell_type": "code",
   "execution_count": 9,
   "metadata": {
    "scrolled": true
   },
   "outputs": [
    {
     "name": "stdout",
     "output_type": "stream",
     "text": [
      "1\n",
      "2\n",
      "3\n",
      "4\n"
     ]
    }
   ],
   "source": [
    "for i in range(1, 5):\n",
    "    print(i)"
   ]
  },
  {
   "cell_type": "markdown",
   "metadata": {},
   "source": [
    "Matrix multiplication tests"
   ]
  },
  {
   "cell_type": "code",
   "execution_count": 16,
   "metadata": {},
   "outputs": [
    {
     "data": {
      "text/plain": [
       "array([[ 1,  3,  5],\n",
       "       [ 7,  9, 11]])"
      ]
     },
     "execution_count": 16,
     "metadata": {},
     "output_type": "execute_result"
    }
   ],
   "source": [
    "A = np.array([1,3,5,7,9,11]).reshape(2,3)\n",
    "A"
   ]
  },
  {
   "cell_type": "code",
   "execution_count": 17,
   "metadata": {},
   "outputs": [
    {
     "data": {
      "text/plain": [
       "array([2, 4, 6])"
      ]
     },
     "execution_count": 17,
     "metadata": {},
     "output_type": "execute_result"
    }
   ],
   "source": [
    "B = np.array([2,4,6])\n",
    "B"
   ]
  },
  {
   "cell_type": "code",
   "execution_count": 18,
   "metadata": {},
   "outputs": [
    {
     "data": {
      "text/plain": [
       "array([ 44, 116])"
      ]
     },
     "execution_count": 18,
     "metadata": {},
     "output_type": "execute_result"
    }
   ],
   "source": [
    "A@B"
   ]
  },
  {
   "cell_type": "code",
   "execution_count": 19,
   "metadata": {},
   "outputs": [
    {
     "data": {
      "text/plain": [
       "array([[ 2,  8],\n",
       "       [ 4, 10],\n",
       "       [ 6, 12]])"
      ]
     },
     "execution_count": 19,
     "metadata": {},
     "output_type": "execute_result"
    }
   ],
   "source": [
    "C = np.array([2,4,6,8,10,12]).reshape(2,3)\n",
    "C = C.transpose()\n",
    "C"
   ]
  },
  {
   "cell_type": "code",
   "execution_count": 20,
   "metadata": {},
   "outputs": [
    {
     "data": {
      "text/plain": [
       "array([[ 44,  98],\n",
       "       [116, 278]])"
      ]
     },
     "execution_count": 20,
     "metadata": {},
     "output_type": "execute_result"
    }
   ],
   "source": [
    "A@C"
   ]
  },
  {
   "cell_type": "code",
   "execution_count": 21,
   "metadata": {},
   "outputs": [
    {
     "data": {
      "text/plain": [
       "array([[-0.9053326 ,  0.05578581],\n",
       "       [ 0.05735234, -0.19576288],\n",
       "       [-0.02328595,  0.76768021]])"
      ]
     },
     "execution_count": 21,
     "metadata": {},
     "output_type": "execute_result"
    }
   ],
   "source": [
    "np.random.uniform(-1, 1, size=(3,2))"
   ]
  },
  {
   "cell_type": "code",
   "execution_count": 22,
   "metadata": {},
   "outputs": [
    {
     "data": {
      "text/plain": [
       "array([[ True, False, False],\n",
       "       [False, False,  True]], dtype=bool)"
      ]
     },
     "execution_count": 22,
     "metadata": {},
     "output_type": "execute_result"
    }
   ],
   "source": [
    "D = np.array([1, 2, 3, 4, 5, 11]).reshape(2,3)\n",
    "(A == D)"
   ]
  },
  {
   "cell_type": "code",
   "execution_count": 23,
   "metadata": {
    "scrolled": true
   },
   "outputs": [
    {
     "data": {
      "text/plain": [
       "2"
      ]
     },
     "execution_count": 23,
     "metadata": {},
     "output_type": "execute_result"
    }
   ],
   "source": [
    "np.sum(A == D)"
   ]
  },
  {
   "cell_type": "markdown",
   "metadata": {},
   "source": [
    "# Parsing Data"
   ]
  },
  {
   "cell_type": "code",
   "execution_count": 24,
   "metadata": {
    "collapsed": true
   },
   "outputs": [],
   "source": [
    "import pandas as pan\n",
    "import numpy as np\n",
    "#import pandas.io.data as web"
   ]
  },
  {
   "cell_type": "markdown",
   "metadata": {},
   "source": [
    "##### Parsing Energy Data"
   ]
  },
  {
   "cell_type": "code",
   "execution_count": 25,
   "metadata": {},
   "outputs": [
    {
     "data": {
      "text/html": [
       "<div>\n",
       "<style>\n",
       "    .dataframe thead tr:only-child th {\n",
       "        text-align: right;\n",
       "    }\n",
       "\n",
       "    .dataframe thead th {\n",
       "        text-align: left;\n",
       "    }\n",
       "\n",
       "    .dataframe tbody tr th {\n",
       "        vertical-align: top;\n",
       "    }\n",
       "</style>\n",
       "<table border=\"1\" class=\"dataframe\">\n",
       "  <thead>\n",
       "    <tr style=\"text-align: right;\">\n",
       "      <th></th>\n",
       "      <th>0</th>\n",
       "      <th>1</th>\n",
       "      <th>2</th>\n",
       "      <th>3</th>\n",
       "      <th>4</th>\n",
       "    </tr>\n",
       "  </thead>\n",
       "  <tbody>\n",
       "    <tr>\n",
       "      <th>Appliances</th>\n",
       "      <td>60.000000</td>\n",
       "      <td>60.000000</td>\n",
       "      <td>50.000000</td>\n",
       "      <td>50.000000</td>\n",
       "      <td>60.000000</td>\n",
       "    </tr>\n",
       "    <tr>\n",
       "      <th>lights</th>\n",
       "      <td>30.000000</td>\n",
       "      <td>30.000000</td>\n",
       "      <td>30.000000</td>\n",
       "      <td>40.000000</td>\n",
       "      <td>40.000000</td>\n",
       "    </tr>\n",
       "    <tr>\n",
       "      <th>T1</th>\n",
       "      <td>19.890000</td>\n",
       "      <td>19.890000</td>\n",
       "      <td>19.890000</td>\n",
       "      <td>19.890000</td>\n",
       "      <td>19.890000</td>\n",
       "    </tr>\n",
       "    <tr>\n",
       "      <th>RH_1</th>\n",
       "      <td>47.596667</td>\n",
       "      <td>46.693333</td>\n",
       "      <td>46.300000</td>\n",
       "      <td>46.066667</td>\n",
       "      <td>46.333333</td>\n",
       "    </tr>\n",
       "    <tr>\n",
       "      <th>T2</th>\n",
       "      <td>19.200000</td>\n",
       "      <td>19.200000</td>\n",
       "      <td>19.200000</td>\n",
       "      <td>19.200000</td>\n",
       "      <td>19.200000</td>\n",
       "    </tr>\n",
       "    <tr>\n",
       "      <th>RH_2</th>\n",
       "      <td>44.790000</td>\n",
       "      <td>44.722500</td>\n",
       "      <td>44.626667</td>\n",
       "      <td>44.590000</td>\n",
       "      <td>44.530000</td>\n",
       "    </tr>\n",
       "    <tr>\n",
       "      <th>T3</th>\n",
       "      <td>19.790000</td>\n",
       "      <td>19.790000</td>\n",
       "      <td>19.790000</td>\n",
       "      <td>19.790000</td>\n",
       "      <td>19.790000</td>\n",
       "    </tr>\n",
       "    <tr>\n",
       "      <th>RH_3</th>\n",
       "      <td>44.730000</td>\n",
       "      <td>44.790000</td>\n",
       "      <td>44.933333</td>\n",
       "      <td>45.000000</td>\n",
       "      <td>45.000000</td>\n",
       "    </tr>\n",
       "    <tr>\n",
       "      <th>T4</th>\n",
       "      <td>19.000000</td>\n",
       "      <td>19.000000</td>\n",
       "      <td>18.926667</td>\n",
       "      <td>18.890000</td>\n",
       "      <td>18.890000</td>\n",
       "    </tr>\n",
       "    <tr>\n",
       "      <th>RH_4</th>\n",
       "      <td>45.566667</td>\n",
       "      <td>45.992500</td>\n",
       "      <td>45.890000</td>\n",
       "      <td>45.723333</td>\n",
       "      <td>45.530000</td>\n",
       "    </tr>\n",
       "    <tr>\n",
       "      <th>T5</th>\n",
       "      <td>17.166667</td>\n",
       "      <td>17.166667</td>\n",
       "      <td>17.166667</td>\n",
       "      <td>17.166667</td>\n",
       "      <td>17.200000</td>\n",
       "    </tr>\n",
       "    <tr>\n",
       "      <th>RH_5</th>\n",
       "      <td>55.200000</td>\n",
       "      <td>55.200000</td>\n",
       "      <td>55.090000</td>\n",
       "      <td>55.090000</td>\n",
       "      <td>55.090000</td>\n",
       "    </tr>\n",
       "    <tr>\n",
       "      <th>T6</th>\n",
       "      <td>7.026667</td>\n",
       "      <td>6.833333</td>\n",
       "      <td>6.560000</td>\n",
       "      <td>6.433333</td>\n",
       "      <td>6.366667</td>\n",
       "    </tr>\n",
       "    <tr>\n",
       "      <th>RH_6</th>\n",
       "      <td>84.256667</td>\n",
       "      <td>84.063333</td>\n",
       "      <td>83.156667</td>\n",
       "      <td>83.423333</td>\n",
       "      <td>84.893333</td>\n",
       "    </tr>\n",
       "    <tr>\n",
       "      <th>T7</th>\n",
       "      <td>17.200000</td>\n",
       "      <td>17.200000</td>\n",
       "      <td>17.200000</td>\n",
       "      <td>17.133333</td>\n",
       "      <td>17.200000</td>\n",
       "    </tr>\n",
       "    <tr>\n",
       "      <th>RH_7</th>\n",
       "      <td>41.626667</td>\n",
       "      <td>41.560000</td>\n",
       "      <td>41.433333</td>\n",
       "      <td>41.290000</td>\n",
       "      <td>41.230000</td>\n",
       "    </tr>\n",
       "    <tr>\n",
       "      <th>T8</th>\n",
       "      <td>18.200000</td>\n",
       "      <td>18.200000</td>\n",
       "      <td>18.200000</td>\n",
       "      <td>18.100000</td>\n",
       "      <td>18.100000</td>\n",
       "    </tr>\n",
       "    <tr>\n",
       "      <th>RH_8</th>\n",
       "      <td>48.900000</td>\n",
       "      <td>48.863333</td>\n",
       "      <td>48.730000</td>\n",
       "      <td>48.590000</td>\n",
       "      <td>48.590000</td>\n",
       "    </tr>\n",
       "    <tr>\n",
       "      <th>T9</th>\n",
       "      <td>17.033333</td>\n",
       "      <td>17.066667</td>\n",
       "      <td>17.000000</td>\n",
       "      <td>17.000000</td>\n",
       "      <td>17.000000</td>\n",
       "    </tr>\n",
       "    <tr>\n",
       "      <th>RH_9</th>\n",
       "      <td>45.530000</td>\n",
       "      <td>45.560000</td>\n",
       "      <td>45.500000</td>\n",
       "      <td>45.400000</td>\n",
       "      <td>45.400000</td>\n",
       "    </tr>\n",
       "    <tr>\n",
       "      <th>T_out</th>\n",
       "      <td>6.600000</td>\n",
       "      <td>6.483333</td>\n",
       "      <td>6.366667</td>\n",
       "      <td>6.250000</td>\n",
       "      <td>6.133333</td>\n",
       "    </tr>\n",
       "    <tr>\n",
       "      <th>Press_mm_hg</th>\n",
       "      <td>733.500000</td>\n",
       "      <td>733.600000</td>\n",
       "      <td>733.700000</td>\n",
       "      <td>733.800000</td>\n",
       "      <td>733.900000</td>\n",
       "    </tr>\n",
       "    <tr>\n",
       "      <th>RH_out</th>\n",
       "      <td>92.000000</td>\n",
       "      <td>92.000000</td>\n",
       "      <td>92.000000</td>\n",
       "      <td>92.000000</td>\n",
       "      <td>92.000000</td>\n",
       "    </tr>\n",
       "    <tr>\n",
       "      <th>Windspeed</th>\n",
       "      <td>7.000000</td>\n",
       "      <td>6.666667</td>\n",
       "      <td>6.333333</td>\n",
       "      <td>6.000000</td>\n",
       "      <td>5.666667</td>\n",
       "    </tr>\n",
       "    <tr>\n",
       "      <th>Visibility</th>\n",
       "      <td>63.000000</td>\n",
       "      <td>59.166667</td>\n",
       "      <td>55.333333</td>\n",
       "      <td>51.500000</td>\n",
       "      <td>47.666667</td>\n",
       "    </tr>\n",
       "    <tr>\n",
       "      <th>Tdewpoint</th>\n",
       "      <td>5.300000</td>\n",
       "      <td>5.200000</td>\n",
       "      <td>5.100000</td>\n",
       "      <td>5.000000</td>\n",
       "      <td>4.900000</td>\n",
       "    </tr>\n",
       "  </tbody>\n",
       "</table>\n",
       "</div>"
      ],
      "text/plain": [
       "                      0           1           2           3           4\n",
       "Appliances    60.000000   60.000000   50.000000   50.000000   60.000000\n",
       "lights        30.000000   30.000000   30.000000   40.000000   40.000000\n",
       "T1            19.890000   19.890000   19.890000   19.890000   19.890000\n",
       "RH_1          47.596667   46.693333   46.300000   46.066667   46.333333\n",
       "T2            19.200000   19.200000   19.200000   19.200000   19.200000\n",
       "RH_2          44.790000   44.722500   44.626667   44.590000   44.530000\n",
       "T3            19.790000   19.790000   19.790000   19.790000   19.790000\n",
       "RH_3          44.730000   44.790000   44.933333   45.000000   45.000000\n",
       "T4            19.000000   19.000000   18.926667   18.890000   18.890000\n",
       "RH_4          45.566667   45.992500   45.890000   45.723333   45.530000\n",
       "T5            17.166667   17.166667   17.166667   17.166667   17.200000\n",
       "RH_5          55.200000   55.200000   55.090000   55.090000   55.090000\n",
       "T6             7.026667    6.833333    6.560000    6.433333    6.366667\n",
       "RH_6          84.256667   84.063333   83.156667   83.423333   84.893333\n",
       "T7            17.200000   17.200000   17.200000   17.133333   17.200000\n",
       "RH_7          41.626667   41.560000   41.433333   41.290000   41.230000\n",
       "T8            18.200000   18.200000   18.200000   18.100000   18.100000\n",
       "RH_8          48.900000   48.863333   48.730000   48.590000   48.590000\n",
       "T9            17.033333   17.066667   17.000000   17.000000   17.000000\n",
       "RH_9          45.530000   45.560000   45.500000   45.400000   45.400000\n",
       "T_out          6.600000    6.483333    6.366667    6.250000    6.133333\n",
       "Press_mm_hg  733.500000  733.600000  733.700000  733.800000  733.900000\n",
       "RH_out        92.000000   92.000000   92.000000   92.000000   92.000000\n",
       "Windspeed      7.000000    6.666667    6.333333    6.000000    5.666667\n",
       "Visibility    63.000000   59.166667   55.333333   51.500000   47.666667\n",
       "Tdewpoint      5.300000    5.200000    5.100000    5.000000    4.900000"
      ]
     },
     "execution_count": 25,
     "metadata": {},
     "output_type": "execute_result"
    }
   ],
   "source": [
    "energy = pan.read_csv('energydata_complete.csv')\n",
    "#energy = energy\n",
    "del energy['date']\n",
    "del energy['rv1']\n",
    "del energy['rv2']\n",
    "energy.head().transpose()"
   ]
  },
  {
   "cell_type": "code",
   "execution_count": 26,
   "metadata": {},
   "outputs": [
    {
     "data": {
      "text/plain": [
       "Appliances     19735\n",
       "lights         19735\n",
       "T1             19735\n",
       "RH_1           19735\n",
       "T2             19735\n",
       "RH_2           19735\n",
       "T3             19735\n",
       "RH_3           19735\n",
       "T4             19735\n",
       "RH_4           19735\n",
       "T5             19735\n",
       "RH_5           19735\n",
       "T6             19735\n",
       "RH_6           19735\n",
       "T7             19735\n",
       "RH_7           19735\n",
       "T8             19735\n",
       "RH_8           19735\n",
       "T9             19735\n",
       "RH_9           19735\n",
       "T_out          19735\n",
       "Press_mm_hg    19735\n",
       "RH_out         19735\n",
       "Windspeed      19735\n",
       "Visibility     19735\n",
       "Tdewpoint      19735\n",
       "dtype: int64"
      ]
     },
     "execution_count": 26,
     "metadata": {},
     "output_type": "execute_result"
    }
   ],
   "source": [
    "energy.count()"
   ]
  },
  {
   "cell_type": "code",
   "execution_count": 27,
   "metadata": {},
   "outputs": [
    {
     "data": {
      "text/plain": [
       "Index(['Appliances', 'lights', 'T1', 'RH_1', 'T2', 'RH_2', 'T3', 'RH_3', 'T4',\n",
       "       'RH_4', 'T5', 'RH_5', 'T6', 'RH_6', 'T7', 'RH_7', 'T8', 'RH_8', 'T9',\n",
       "       'RH_9', 'T_out', 'Press_mm_hg', 'RH_out', 'Windspeed', 'Visibility',\n",
       "       'Tdewpoint'],\n",
       "      dtype='object')"
      ]
     },
     "execution_count": 27,
     "metadata": {},
     "output_type": "execute_result"
    }
   ],
   "source": [
    "enames = energy.columns\n",
    "enames"
   ]
  },
  {
   "cell_type": "code",
   "execution_count": 28,
   "metadata": {},
   "outputs": [
    {
     "data": {
      "text/plain": [
       "(19735, 26)"
      ]
     },
     "execution_count": 28,
     "metadata": {},
     "output_type": "execute_result"
    }
   ],
   "source": [
    "energy.shape"
   ]
  },
  {
   "cell_type": "code",
   "execution_count": 29,
   "metadata": {
    "collapsed": true
   },
   "outputs": [],
   "source": [
    "#no slicing dataframes\n",
    "#energy[:2,:]"
   ]
  },
  {
   "cell_type": "code",
   "execution_count": 30,
   "metadata": {},
   "outputs": [
    {
     "data": {
      "text/plain": [
       "array([[  60.        ,   30.        ,   19.89      ,   47.59666667,\n",
       "          19.2       ,   44.79      ,   19.79      ,   44.73      ,\n",
       "          19.        ,   45.56666667,   17.16666667,   55.2       ,\n",
       "           7.02666667,   84.25666667,   17.2       ,   41.62666667,\n",
       "          18.2       ,   48.9       ,   17.03333333,   45.53      ,\n",
       "           6.6       ,  733.5       ,   92.        ,    7.        ,\n",
       "          63.        ,    5.3       ],\n",
       "       [  60.        ,   30.        ,   19.89      ,   46.69333333,\n",
       "          19.2       ,   44.7225    ,   19.79      ,   44.79      ,\n",
       "          19.        ,   45.9925    ,   17.16666667,   55.2       ,\n",
       "           6.83333333,   84.06333333,   17.2       ,   41.56      ,\n",
       "          18.2       ,   48.86333333,   17.06666667,   45.56      ,\n",
       "           6.48333333,  733.6       ,   92.        ,    6.66666667,\n",
       "          59.16666667,    5.2       ]])"
      ]
     },
     "execution_count": 30,
     "metadata": {},
     "output_type": "execute_result"
    }
   ],
   "source": [
    "energy = np.array(energy)\n",
    "energy[:2,:]   #no header info"
   ]
  },
  {
   "cell_type": "code",
   "execution_count": 31,
   "metadata": {},
   "outputs": [
    {
     "data": {
      "text/plain": [
       "((19735, 24), (19735, 2))"
      ]
     },
     "execution_count": 31,
     "metadata": {},
     "output_type": "execute_result"
    }
   ],
   "source": [
    "Tenergy = energy[:,:2]\n",
    "Xenergy = energy[:,2:]\n",
    "Xenergy.shape, Tenergy.shape"
   ]
  },
  {
   "cell_type": "code",
   "execution_count": 32,
   "metadata": {},
   "outputs": [
    {
     "data": {
      "text/plain": [
       "['T1',\n",
       " 'RH_1',\n",
       " 'T2',\n",
       " 'RH_2',\n",
       " 'T3',\n",
       " 'RH_3',\n",
       " 'T4',\n",
       " 'RH_4',\n",
       " 'T5',\n",
       " 'RH_5',\n",
       " 'T6',\n",
       " 'RH_6',\n",
       " 'T7',\n",
       " 'RH_7',\n",
       " 'T8',\n",
       " 'RH_8',\n",
       " 'T9',\n",
       " 'RH_9',\n",
       " 'T_out',\n",
       " 'Press_mm_hg',\n",
       " 'RH_out',\n",
       " 'Windspeed',\n",
       " 'Visibility',\n",
       " 'Tdewpoint']"
      ]
     },
     "execution_count": 32,
     "metadata": {},
     "output_type": "execute_result"
    }
   ],
   "source": [
    "eXnames = list(enames[2:])\n",
    "eTnames = list(enames[:2])\n",
    "eXnames"
   ]
  },
  {
   "cell_type": "code",
   "execution_count": 33,
   "metadata": {},
   "outputs": [
    {
     "data": {
      "text/plain": [
       "['Appliances', 'lights']"
      ]
     },
     "execution_count": 33,
     "metadata": {},
     "output_type": "execute_result"
    }
   ],
   "source": [
    "eTnames"
   ]
  },
  {
   "cell_type": "markdown",
   "metadata": {},
   "source": [
    "##### Parsing Frog Data"
   ]
  },
  {
   "cell_type": "code",
   "execution_count": 34,
   "metadata": {},
   "outputs": [
    {
     "data": {
      "text/html": [
       "<div>\n",
       "<style>\n",
       "    .dataframe thead tr:only-child th {\n",
       "        text-align: right;\n",
       "    }\n",
       "\n",
       "    .dataframe thead th {\n",
       "        text-align: left;\n",
       "    }\n",
       "\n",
       "    .dataframe tbody tr th {\n",
       "        vertical-align: top;\n",
       "    }\n",
       "</style>\n",
       "<table border=\"1\" class=\"dataframe\">\n",
       "  <thead>\n",
       "    <tr style=\"text-align: right;\">\n",
       "      <th></th>\n",
       "      <th>0</th>\n",
       "      <th>1</th>\n",
       "      <th>2</th>\n",
       "      <th>3</th>\n",
       "      <th>4</th>\n",
       "    </tr>\n",
       "  </thead>\n",
       "  <tbody>\n",
       "    <tr>\n",
       "      <th>MFCCs_ 1</th>\n",
       "      <td>1</td>\n",
       "      <td>1</td>\n",
       "      <td>1</td>\n",
       "      <td>1</td>\n",
       "      <td>1</td>\n",
       "    </tr>\n",
       "    <tr>\n",
       "      <th>MFCCs_ 2</th>\n",
       "      <td>0.152936</td>\n",
       "      <td>0.171534</td>\n",
       "      <td>0.152317</td>\n",
       "      <td>0.224392</td>\n",
       "      <td>0.0878169</td>\n",
       "    </tr>\n",
       "    <tr>\n",
       "      <th>MFCCs_ 3</th>\n",
       "      <td>-0.105586</td>\n",
       "      <td>-0.0989747</td>\n",
       "      <td>-0.0829727</td>\n",
       "      <td>0.118985</td>\n",
       "      <td>-0.0683449</td>\n",
       "    </tr>\n",
       "    <tr>\n",
       "      <th>MFCCs_ 4</th>\n",
       "      <td>0.200722</td>\n",
       "      <td>0.268425</td>\n",
       "      <td>0.287128</td>\n",
       "      <td>0.329432</td>\n",
       "      <td>0.306967</td>\n",
       "    </tr>\n",
       "    <tr>\n",
       "      <th>MFCCs_ 5</th>\n",
       "      <td>0.317201</td>\n",
       "      <td>0.338672</td>\n",
       "      <td>0.276014</td>\n",
       "      <td>0.372088</td>\n",
       "      <td>0.330923</td>\n",
       "    </tr>\n",
       "    <tr>\n",
       "      <th>MFCCs_ 6</th>\n",
       "      <td>0.260764</td>\n",
       "      <td>0.268353</td>\n",
       "      <td>0.189867</td>\n",
       "      <td>0.361005</td>\n",
       "      <td>0.249144</td>\n",
       "    </tr>\n",
       "    <tr>\n",
       "      <th>MFCCs_ 7</th>\n",
       "      <td>0.100945</td>\n",
       "      <td>0.0608351</td>\n",
       "      <td>0.00871396</td>\n",
       "      <td>0.015501</td>\n",
       "      <td>0.00688371</td>\n",
       "    </tr>\n",
       "    <tr>\n",
       "      <th>MFCCs_ 8</th>\n",
       "      <td>-0.150063</td>\n",
       "      <td>-0.222475</td>\n",
       "      <td>-0.242234</td>\n",
       "      <td>-0.194347</td>\n",
       "      <td>-0.265423</td>\n",
       "    </tr>\n",
       "    <tr>\n",
       "      <th>MFCCs_ 9</th>\n",
       "      <td>-0.171128</td>\n",
       "      <td>-0.207693</td>\n",
       "      <td>-0.219153</td>\n",
       "      <td>-0.0981807</td>\n",
       "      <td>-0.1727</td>\n",
       "    </tr>\n",
       "    <tr>\n",
       "      <th>MFCCs_10</th>\n",
       "      <td>0.124676</td>\n",
       "      <td>0.170883</td>\n",
       "      <td>0.232538</td>\n",
       "      <td>0.270375</td>\n",
       "      <td>0.266434</td>\n",
       "    </tr>\n",
       "    <tr>\n",
       "      <th>MFCCs_11</th>\n",
       "      <td>0.188654</td>\n",
       "      <td>0.270958</td>\n",
       "      <td>0.266064</td>\n",
       "      <td>0.267279</td>\n",
       "      <td>0.332695</td>\n",
       "    </tr>\n",
       "    <tr>\n",
       "      <th>MFCCs_12</th>\n",
       "      <td>-0.0756217</td>\n",
       "      <td>-0.0950039</td>\n",
       "      <td>-0.0728272</td>\n",
       "      <td>-0.162258</td>\n",
       "      <td>-0.100749</td>\n",
       "    </tr>\n",
       "    <tr>\n",
       "      <th>MFCCs_13</th>\n",
       "      <td>-0.156436</td>\n",
       "      <td>-0.254341</td>\n",
       "      <td>-0.237384</td>\n",
       "      <td>-0.317084</td>\n",
       "      <td>-0.298524</td>\n",
       "    </tr>\n",
       "    <tr>\n",
       "      <th>MFCCs_14</th>\n",
       "      <td>0.0822451</td>\n",
       "      <td>0.0227862</td>\n",
       "      <td>0.0507907</td>\n",
       "      <td>-0.0115674</td>\n",
       "      <td>0.0374389</td>\n",
       "    </tr>\n",
       "    <tr>\n",
       "      <th>MFCCs_15</th>\n",
       "      <td>0.135752</td>\n",
       "      <td>0.16332</td>\n",
       "      <td>0.207338</td>\n",
       "      <td>0.100413</td>\n",
       "      <td>0.219153</td>\n",
       "    </tr>\n",
       "    <tr>\n",
       "      <th>MFCCs_16</th>\n",
       "      <td>-0.0240166</td>\n",
       "      <td>0.0120223</td>\n",
       "      <td>0.0835357</td>\n",
       "      <td>-0.0502237</td>\n",
       "      <td>0.0628372</td>\n",
       "    </tr>\n",
       "    <tr>\n",
       "      <th>MFCCs_17</th>\n",
       "      <td>-0.108351</td>\n",
       "      <td>-0.090974</td>\n",
       "      <td>-0.0506914</td>\n",
       "      <td>-0.136009</td>\n",
       "      <td>-0.0488846</td>\n",
       "    </tr>\n",
       "    <tr>\n",
       "      <th>MFCCs_18</th>\n",
       "      <td>-0.0776225</td>\n",
       "      <td>-0.0565095</td>\n",
       "      <td>-0.0235902</td>\n",
       "      <td>-0.177037</td>\n",
       "      <td>-0.0530735</td>\n",
       "    </tr>\n",
       "    <tr>\n",
       "      <th>MFCCs_19</th>\n",
       "      <td>-0.0095678</td>\n",
       "      <td>-0.0353034</td>\n",
       "      <td>-0.0667215</td>\n",
       "      <td>-0.130498</td>\n",
       "      <td>-0.0885504</td>\n",
       "    </tr>\n",
       "    <tr>\n",
       "      <th>MFCCs_20</th>\n",
       "      <td>0.057684</td>\n",
       "      <td>0.02014</td>\n",
       "      <td>-0.0250832</td>\n",
       "      <td>-0.0547664</td>\n",
       "      <td>-0.0313456</td>\n",
       "    </tr>\n",
       "    <tr>\n",
       "      <th>MFCCs_21</th>\n",
       "      <td>0.11868</td>\n",
       "      <td>0.082263</td>\n",
       "      <td>0.0991084</td>\n",
       "      <td>-0.0186914</td>\n",
       "      <td>0.10861</td>\n",
       "    </tr>\n",
       "    <tr>\n",
       "      <th>MFCCs_22</th>\n",
       "      <td>0.0140384</td>\n",
       "      <td>0.0290557</td>\n",
       "      <td>0.0771624</td>\n",
       "      <td>0.0239543</td>\n",
       "      <td>0.0792443</td>\n",
       "    </tr>\n",
       "    <tr>\n",
       "      <th>Family</th>\n",
       "      <td>Leptodactylidae</td>\n",
       "      <td>Leptodactylidae</td>\n",
       "      <td>Leptodactylidae</td>\n",
       "      <td>Leptodactylidae</td>\n",
       "      <td>Leptodactylidae</td>\n",
       "    </tr>\n",
       "    <tr>\n",
       "      <th>Genus</th>\n",
       "      <td>Adenomera</td>\n",
       "      <td>Adenomera</td>\n",
       "      <td>Adenomera</td>\n",
       "      <td>Adenomera</td>\n",
       "      <td>Adenomera</td>\n",
       "    </tr>\n",
       "    <tr>\n",
       "      <th>Species</th>\n",
       "      <td>AdenomeraAndre</td>\n",
       "      <td>AdenomeraAndre</td>\n",
       "      <td>AdenomeraAndre</td>\n",
       "      <td>AdenomeraAndre</td>\n",
       "      <td>AdenomeraAndre</td>\n",
       "    </tr>\n",
       "    <tr>\n",
       "      <th>RecordID</th>\n",
       "      <td>1</td>\n",
       "      <td>1</td>\n",
       "      <td>1</td>\n",
       "      <td>1</td>\n",
       "      <td>1</td>\n",
       "    </tr>\n",
       "  </tbody>\n",
       "</table>\n",
       "</div>"
      ],
      "text/plain": [
       "                        0                1                2                3  \\\n",
       "MFCCs_ 1                1                1                1                1   \n",
       "MFCCs_ 2         0.152936         0.171534         0.152317         0.224392   \n",
       "MFCCs_ 3        -0.105586       -0.0989747       -0.0829727         0.118985   \n",
       "MFCCs_ 4         0.200722         0.268425         0.287128         0.329432   \n",
       "MFCCs_ 5         0.317201         0.338672         0.276014         0.372088   \n",
       "MFCCs_ 6         0.260764         0.268353         0.189867         0.361005   \n",
       "MFCCs_ 7         0.100945        0.0608351       0.00871396         0.015501   \n",
       "MFCCs_ 8        -0.150063        -0.222475        -0.242234        -0.194347   \n",
       "MFCCs_ 9        -0.171128        -0.207693        -0.219153       -0.0981807   \n",
       "MFCCs_10         0.124676         0.170883         0.232538         0.270375   \n",
       "MFCCs_11         0.188654         0.270958         0.266064         0.267279   \n",
       "MFCCs_12       -0.0756217       -0.0950039       -0.0728272        -0.162258   \n",
       "MFCCs_13        -0.156436        -0.254341        -0.237384        -0.317084   \n",
       "MFCCs_14        0.0822451        0.0227862        0.0507907       -0.0115674   \n",
       "MFCCs_15         0.135752          0.16332         0.207338         0.100413   \n",
       "MFCCs_16       -0.0240166        0.0120223        0.0835357       -0.0502237   \n",
       "MFCCs_17        -0.108351        -0.090974       -0.0506914        -0.136009   \n",
       "MFCCs_18       -0.0776225       -0.0565095       -0.0235902        -0.177037   \n",
       "MFCCs_19       -0.0095678       -0.0353034       -0.0667215        -0.130498   \n",
       "MFCCs_20         0.057684          0.02014       -0.0250832       -0.0547664   \n",
       "MFCCs_21          0.11868         0.082263        0.0991084       -0.0186914   \n",
       "MFCCs_22        0.0140384        0.0290557        0.0771624        0.0239543   \n",
       "Family    Leptodactylidae  Leptodactylidae  Leptodactylidae  Leptodactylidae   \n",
       "Genus           Adenomera        Adenomera        Adenomera        Adenomera   \n",
       "Species    AdenomeraAndre   AdenomeraAndre   AdenomeraAndre   AdenomeraAndre   \n",
       "RecordID                1                1                1                1   \n",
       "\n",
       "                        4  \n",
       "MFCCs_ 1                1  \n",
       "MFCCs_ 2        0.0878169  \n",
       "MFCCs_ 3       -0.0683449  \n",
       "MFCCs_ 4         0.306967  \n",
       "MFCCs_ 5         0.330923  \n",
       "MFCCs_ 6         0.249144  \n",
       "MFCCs_ 7       0.00688371  \n",
       "MFCCs_ 8        -0.265423  \n",
       "MFCCs_ 9          -0.1727  \n",
       "MFCCs_10         0.266434  \n",
       "MFCCs_11         0.332695  \n",
       "MFCCs_12        -0.100749  \n",
       "MFCCs_13        -0.298524  \n",
       "MFCCs_14        0.0374389  \n",
       "MFCCs_15         0.219153  \n",
       "MFCCs_16        0.0628372  \n",
       "MFCCs_17       -0.0488846  \n",
       "MFCCs_18       -0.0530735  \n",
       "MFCCs_19       -0.0885504  \n",
       "MFCCs_20       -0.0313456  \n",
       "MFCCs_21          0.10861  \n",
       "MFCCs_22        0.0792443  \n",
       "Family    Leptodactylidae  \n",
       "Genus           Adenomera  \n",
       "Species    AdenomeraAndre  \n",
       "RecordID                1  "
      ]
     },
     "execution_count": 34,
     "metadata": {},
     "output_type": "execute_result"
    }
   ],
   "source": [
    "frogs = pan.read_csv('Frogs_MFCCs.csv')\n",
    "frogs.head().transpose()"
   ]
  },
  {
   "cell_type": "code",
   "execution_count": 35,
   "metadata": {},
   "outputs": [
    {
     "data": {
      "text/plain": [
       "MFCCs_ 1    7195\n",
       "MFCCs_ 2    7195\n",
       "MFCCs_ 3    7195\n",
       "MFCCs_ 4    7195\n",
       "MFCCs_ 5    7195\n",
       "MFCCs_ 6    7195\n",
       "MFCCs_ 7    7195\n",
       "MFCCs_ 8    7195\n",
       "MFCCs_ 9    7195\n",
       "MFCCs_10    7195\n",
       "MFCCs_11    7195\n",
       "MFCCs_12    7195\n",
       "MFCCs_13    7195\n",
       "MFCCs_14    7195\n",
       "MFCCs_15    7195\n",
       "MFCCs_16    7195\n",
       "MFCCs_17    7195\n",
       "MFCCs_18    7195\n",
       "MFCCs_19    7195\n",
       "MFCCs_20    7195\n",
       "MFCCs_21    7195\n",
       "MFCCs_22    7195\n",
       "Family      7195\n",
       "Genus       7195\n",
       "Species     7195\n",
       "RecordID    7195\n",
       "dtype: int64"
      ]
     },
     "execution_count": 35,
     "metadata": {},
     "output_type": "execute_result"
    }
   ],
   "source": [
    "frogs.count()"
   ]
  },
  {
   "cell_type": "code",
   "execution_count": 36,
   "metadata": {},
   "outputs": [
    {
     "data": {
      "text/plain": [
       "0       AdenomeraAndre\n",
       "1       AdenomeraAndre\n",
       "2       AdenomeraAndre\n",
       "3       AdenomeraAndre\n",
       "4       AdenomeraAndre\n",
       "5       AdenomeraAndre\n",
       "6       AdenomeraAndre\n",
       "7       AdenomeraAndre\n",
       "8       AdenomeraAndre\n",
       "9       AdenomeraAndre\n",
       "10      AdenomeraAndre\n",
       "11      AdenomeraAndre\n",
       "12      AdenomeraAndre\n",
       "13      AdenomeraAndre\n",
       "14      AdenomeraAndre\n",
       "15      AdenomeraAndre\n",
       "16      AdenomeraAndre\n",
       "17      AdenomeraAndre\n",
       "18      AdenomeraAndre\n",
       "19      AdenomeraAndre\n",
       "20      AdenomeraAndre\n",
       "21      AdenomeraAndre\n",
       "22      AdenomeraAndre\n",
       "23      AdenomeraAndre\n",
       "24      AdenomeraAndre\n",
       "25      AdenomeraAndre\n",
       "26      AdenomeraAndre\n",
       "27      AdenomeraAndre\n",
       "28      AdenomeraAndre\n",
       "29      AdenomeraAndre\n",
       "             ...      \n",
       "7165       ScinaxRuber\n",
       "7166       ScinaxRuber\n",
       "7167       ScinaxRuber\n",
       "7168       ScinaxRuber\n",
       "7169       ScinaxRuber\n",
       "7170       ScinaxRuber\n",
       "7171       ScinaxRuber\n",
       "7172       ScinaxRuber\n",
       "7173       ScinaxRuber\n",
       "7174       ScinaxRuber\n",
       "7175       ScinaxRuber\n",
       "7176       ScinaxRuber\n",
       "7177       ScinaxRuber\n",
       "7178       ScinaxRuber\n",
       "7179       ScinaxRuber\n",
       "7180       ScinaxRuber\n",
       "7181       ScinaxRuber\n",
       "7182       ScinaxRuber\n",
       "7183       ScinaxRuber\n",
       "7184       ScinaxRuber\n",
       "7185       ScinaxRuber\n",
       "7186       ScinaxRuber\n",
       "7187       ScinaxRuber\n",
       "7188       ScinaxRuber\n",
       "7189       ScinaxRuber\n",
       "7190       ScinaxRuber\n",
       "7191       ScinaxRuber\n",
       "7192       ScinaxRuber\n",
       "7193       ScinaxRuber\n",
       "7194       ScinaxRuber\n",
       "Name: Species, Length: 7195, dtype: object"
      ]
     },
     "execution_count": 36,
     "metadata": {},
     "output_type": "execute_result"
    }
   ],
   "source": [
    "frogs['Species']"
   ]
  },
  {
   "cell_type": "code",
   "execution_count": 37,
   "metadata": {},
   "outputs": [
    {
     "data": {
      "text/plain": [
       "['AdenomeraAndre',\n",
       " 'AdenomeraHylaedactylus',\n",
       " 'Ameeregatrivittata',\n",
       " 'HylaMinuta',\n",
       " 'HypsiboasCinerascens',\n",
       " 'HypsiboasCordobae',\n",
       " 'LeptodactylusFuscus',\n",
       " 'OsteocephalusOophagus',\n",
       " 'Rhinellagranulosa',\n",
       " 'ScinaxRuber']"
      ]
     },
     "execution_count": 37,
     "metadata": {},
     "output_type": "execute_result"
    }
   ],
   "source": [
    "temp = list(np.unique(frogs['Species']))\n",
    "temp"
   ]
  },
  {
   "cell_type": "code",
   "execution_count": 38,
   "metadata": {},
   "outputs": [
    {
     "data": {
      "text/plain": [
       "(7195, 26)"
      ]
     },
     "execution_count": 38,
     "metadata": {},
     "output_type": "execute_result"
    }
   ],
   "source": [
    "frogs = np.array(frogs)\n",
    "frogs.shape"
   ]
  },
  {
   "cell_type": "code",
   "execution_count": 39,
   "metadata": {},
   "outputs": [
    {
     "name": "stdout",
     "output_type": "stream",
     "text": [
      "0\n",
      "1\n",
      "2\n",
      "3\n",
      "4\n",
      "5\n",
      "6\n",
      "7\n",
      "8\n",
      "9\n"
     ]
    }
   ],
   "source": [
    "for i in temp:\n",
    "    print(temp.index(i))"
   ]
  },
  {
   "cell_type": "code",
   "execution_count": 40,
   "metadata": {
    "collapsed": true
   },
   "outputs": [],
   "source": [
    "#taken from CS440 slides\n",
    "def makeIndicatorVars(T):\n",
    "    # Make sure T is two-dimensiona. Should be nSamples x 1.\n",
    "    if T.ndim == 1:\n",
    "        T = T.reshape((-1,1))    \n",
    "    return (T == np.unique(T)).astype(int)"
   ]
  },
  {
   "cell_type": "code",
   "execution_count": 41,
   "metadata": {},
   "outputs": [
    {
     "data": {
      "text/plain": [
       "array([[1, 0, 0, 0, 0, 0, 0, 0, 0, 0],\n",
       "       [0, 1, 0, 0, 0, 0, 0, 0, 0, 0],\n",
       "       [0, 0, 1, 0, 0, 0, 0, 0, 0, 0],\n",
       "       [0, 0, 0, 1, 0, 0, 0, 0, 0, 0],\n",
       "       [0, 0, 0, 0, 1, 0, 0, 0, 0, 0],\n",
       "       [0, 0, 0, 0, 0, 1, 0, 0, 0, 0],\n",
       "       [0, 0, 0, 0, 0, 0, 1, 0, 0, 0],\n",
       "       [0, 0, 0, 0, 0, 0, 0, 1, 0, 0],\n",
       "       [0, 0, 0, 0, 0, 0, 0, 0, 1, 0],\n",
       "       [0, 0, 0, 0, 0, 0, 0, 0, 0, 1]])"
      ]
     },
     "execution_count": 41,
     "metadata": {},
     "output_type": "execute_result"
    }
   ],
   "source": [
    "speciesMatrix = makeIndicatorVars(np.array(temp))\n",
    "speciesMatrix"
   ]
  },
  {
   "cell_type": "code",
   "execution_count": 42,
   "metadata": {},
   "outputs": [
    {
     "data": {
      "text/plain": [
       "(10, 10)"
      ]
     },
     "execution_count": 42,
     "metadata": {},
     "output_type": "execute_result"
    }
   ],
   "source": [
    "speciesMatrix.shape"
   ]
  },
  {
   "cell_type": "code",
   "execution_count": 43,
   "metadata": {},
   "outputs": [
    {
     "data": {
      "text/plain": [
       "{'AdenomeraAndre': 0,\n",
       " 'AdenomeraHylaedactylus': 1,\n",
       " 'Ameeregatrivittata': 2,\n",
       " 'HylaMinuta': 3,\n",
       " 'HypsiboasCinerascens': 4,\n",
       " 'HypsiboasCordobae': 5,\n",
       " 'LeptodactylusFuscus': 6,\n",
       " 'OsteocephalusOophagus': 7,\n",
       " 'Rhinellagranulosa': 8,\n",
       " 'ScinaxRuber': 9}"
      ]
     },
     "execution_count": 43,
     "metadata": {},
     "output_type": "execute_result"
    }
   ],
   "source": [
    "species = {}\n",
    "for i in temp:\n",
    "    species[i] = temp.index(i)\n",
    "#species['HylaMinuta'] = 9\n",
    "#species['ScinaxRuber'] = 3\n",
    "species"
   ]
  },
  {
   "cell_type": "code",
   "execution_count": 44,
   "metadata": {},
   "outputs": [
    {
     "name": "stdout",
     "output_type": "stream",
     "text": [
      "[1 0 0 0 0 0 0 0 0 0]\n",
      "[0 1 0 0 0 0 0 0 0 0]\n",
      "[0 0 1 0 0 0 0 0 0 0]\n",
      "[0 0 0 1 0 0 0 0 0 0]\n",
      "[0 0 0 0 1 0 0 0 0 0]\n",
      "[0 0 0 0 0 1 0 0 0 0]\n",
      "[0 0 0 0 0 0 1 0 0 0]\n",
      "[0 0 0 0 0 0 0 1 0 0]\n",
      "[0 0 0 0 0 0 0 0 1 0]\n",
      "[0 0 0 0 0 0 0 0 0 1]\n"
     ]
    }
   ],
   "source": [
    "#species entries correspond to speciesMatrix order\n",
    "for i in species:\n",
    "    print(speciesMatrix[species[i]])"
   ]
  },
  {
   "cell_type": "code",
   "execution_count": 45,
   "metadata": {},
   "outputs": [
    {
     "data": {
      "text/plain": [
       "array([[ 0.1529363 , -0.1055859 ,  0.20072191,  0.31720106,  0.26076385,\n",
       "         0.10094464, -0.1500626 , -0.17112763,  0.12467644,  0.18865415,\n",
       "        -0.07562172, -0.15643593,  0.08224512,  0.13575204, -0.02401665,\n",
       "        -0.10835111, -0.07762252, -0.0095678 ,  0.05768398,  0.11868014,\n",
       "         0.01403845],\n",
       "       [ 0.17153426, -0.09897474,  0.26842522,  0.33867186,  0.2683531 ,\n",
       "         0.06083509, -0.22247464, -0.20769267,  0.17088287,  0.27095828,\n",
       "        -0.09500394, -0.25434147,  0.02278623,  0.1633201 ,  0.01202228,\n",
       "        -0.09097401, -0.05650952, -0.03530336,  0.02013996,  0.08226299,\n",
       "         0.02905574]])"
      ]
     },
     "execution_count": 45,
     "metadata": {},
     "output_type": "execute_result"
    }
   ],
   "source": [
    "Xanuran = []\n",
    "#Xanuran = np.array(frogs[:,1:22])\n",
    "Xanuran = np.array(frogs[:,1:22]).astype(float)\n",
    "Xanuran[:2,:]"
   ]
  },
  {
   "cell_type": "code",
   "execution_count": 46,
   "metadata": {},
   "outputs": [
    {
     "name": "stdout",
     "output_type": "stream",
     "text": [
      "[3]\n"
     ]
    },
    {
     "data": {
      "text/plain": [
       "[[3], [3]]"
      ]
     },
     "execution_count": 46,
     "metadata": {},
     "output_type": "execute_result"
    }
   ],
   "source": [
    "thing = []\n",
    "thing.append(species['HylaMinuta'])\n",
    "print(thing)\n",
    "stuff = []\n",
    "stuff.append(thing)\n",
    "stuff.append(thing)\n",
    "stuff"
   ]
  },
  {
   "cell_type": "code",
   "execution_count": 47,
   "metadata": {},
   "outputs": [
    {
     "data": {
      "text/plain": [
       "array([[0],\n",
       "       [0]])"
      ]
     },
     "execution_count": 47,
     "metadata": {},
     "output_type": "execute_result"
    }
   ],
   "source": [
    "names = np.array(frogs[:,24])\n",
    "Tanuran = []\n",
    "for i in names:\n",
    "    each = []    \n",
    "    each.append(species[i])\n",
    "    Tanuran.append(each)\n",
    "Tanuran = np.array(Tanuran)\n",
    "Tanuran[:2]"
   ]
  },
  {
   "cell_type": "code",
   "execution_count": 48,
   "metadata": {},
   "outputs": [
    {
     "data": {
      "text/plain": [
       "((7195, 21), (7195, 1))"
      ]
     },
     "execution_count": 48,
     "metadata": {},
     "output_type": "execute_result"
    }
   ],
   "source": [
    "Xanuran.shape, Tanuran.shape"
   ]
  },
  {
   "cell_type": "code",
   "execution_count": 49,
   "metadata": {},
   "outputs": [
    {
     "data": {
      "text/plain": [
       "10"
      ]
     },
     "execution_count": 49,
     "metadata": {},
     "output_type": "execute_result"
    }
   ],
   "source": [
    "len(np.unique(Tanuran))\n",
    "#Tanuran\n",
    "#print(Tanuran)\n",
    "#len(Tanuran)"
   ]
  },
  {
   "cell_type": "code",
   "execution_count": 50,
   "metadata": {},
   "outputs": [
    {
     "name": "stdout",
     "output_type": "stream",
     "text": [
      "672 samples in class 0\n",
      "3478 samples in class 1\n",
      "542 samples in class 2\n",
      "310 samples in class 3\n",
      "472 samples in class 4\n",
      "1121 samples in class 5\n",
      "270 samples in class 6\n",
      "114 samples in class 7\n",
      "68 samples in class 8\n",
      "148 samples in class 9\n"
     ]
    }
   ],
   "source": [
    "for i in range(10):\n",
    "    print('{} samples in class {}'.format(np.sum(Tanuran==i), i))"
   ]
  },
  {
   "cell_type": "code",
   "execution_count": 51,
   "metadata": {
    "collapsed": true
   },
   "outputs": [],
   "source": [
    "import matplotlib.pyplot as plt\n",
    "%matplotlib inline"
   ]
  },
  {
   "cell_type": "markdown",
   "metadata": {},
   "source": [
    "### Testing Functions - "
   ]
  },
  {
   "cell_type": "markdown",
   "metadata": {},
   "source": [
    "#### Energy Data"
   ]
  },
  {
   "cell_type": "code",
   "execution_count": 52,
   "metadata": {},
   "outputs": [
    {
     "data": {
      "text/plain": [
       "[[0,\n",
       "  [66.440226408746923,\n",
       "   67.470740280710828,\n",
       "   67.334675887498207,\n",
       "   66.607551192823138,\n",
       "   67.404598258554685,\n",
       "   67.218626883416292,\n",
       "   67.247827740914843,\n",
       "   66.561549001164877,\n",
       "   67.031068924277719,\n",
       "   67.721143533528362],\n",
       "  [70.015391169818244,\n",
       "   65.95677452872782,\n",
       "   66.495897475901771,\n",
       "   69.386996074046138,\n",
       "   66.225357520134324,\n",
       "   66.971055550673597,\n",
       "   66.860321056066468,\n",
       "   69.584073199190314,\n",
       "   67.707823688519099,\n",
       "   64.910160353943382],\n",
       "  1.3082256317138672],\n",
       " [5,\n",
       "  [66.123298587278327,\n",
       "   65.686131179935771,\n",
       "   65.264997362398745,\n",
       "   65.213106214032237,\n",
       "   65.831081351459886,\n",
       "   65.450273418594563,\n",
       "   65.845044918383948,\n",
       "   65.325839685085384,\n",
       "   65.208161051221694,\n",
       "   65.011359376673738],\n",
       "  [64.824165232533034,\n",
       "   66.718373672434666,\n",
       "   66.531669562833784,\n",
       "   65.138388849691836,\n",
       "   66.536557720488318,\n",
       "   67.628480868552941,\n",
       "   67.02528004416736,\n",
       "   67.11918299089632,\n",
       "   67.637055151170728,\n",
       "   66.029684528365408],\n",
       "  21.911864757537842],\n",
       " [[5, 5],\n",
       "  [65.466622232337471,\n",
       "   65.413465800257995,\n",
       "   63.36210326155215,\n",
       "   64.516394691983862,\n",
       "   64.747587144259114,\n",
       "   65.041743242747486,\n",
       "   65.801315364760299,\n",
       "   65.215661795567271,\n",
       "   65.512608442617008,\n",
       "   63.249857787131447],\n",
       "  [64.791772689331225,\n",
       "   65.582441270306418,\n",
       "   67.38981925959699,\n",
       "   64.756280575242243,\n",
       "   64.666048006917848,\n",
       "   65.424955097080826,\n",
       "   63.033518147990804,\n",
       "   64.869771355242364,\n",
       "   61.819399239910837,\n",
       "   68.957792082500021],\n",
       "  29.92308497428894],\n",
       " [[10, 10],\n",
       "  [63.866961102265464,\n",
       "   62.871175312890358,\n",
       "   62.41093364825926,\n",
       "   62.967842482795369,\n",
       "   63.007478478648686,\n",
       "   62.273594499552132,\n",
       "   62.121224042213562,\n",
       "   64.025492885438098,\n",
       "   63.597570323913274,\n",
       "   63.304586340377988],\n",
       "  [60.601318765356226,\n",
       "   62.973852166879738,\n",
       "   64.884245828474519,\n",
       "   65.415091401025791,\n",
       "   65.956753038032289,\n",
       "   67.776667372673927,\n",
       "   64.777227965739499,\n",
       "   62.624469701920347,\n",
       "   65.786101809713159,\n",
       "   62.683984067122445],\n",
       "  53.89591693878174]]"
      ]
     },
     "execution_count": 52,
     "metadata": {},
     "output_type": "execute_result"
    }
   ],
   "source": [
    "Eresults = trainNNs(Xenergy, Tenergy, 0.8, [0, 5, [5,5], [10, 10]], 10, 100, classify=False)\n",
    "Eresults"
   ]
  },
  {
   "cell_type": "code",
   "execution_count": 73,
   "metadata": {
    "scrolled": false
   },
   "outputs": [
    {
     "data": {
      "image/png": "[encoded data removed]",
      "text/plain": [
       "<matplotlib.figure.Figure at 0x1c3b5614fd0>"
      ]
     },
     "metadata": {},
     "output_type": "display_data"
    }
   ],
   "source": [
    "plt.plot(Xenergy, Tenergy, '.');"
   ]
  },
  {
   "cell_type": "code",
   "execution_count": 74,
   "metadata": {},
   "outputs": [
    {
     "data": {
      "image/png": "[encoded data removed]",
      "text/plain": [
       "<matplotlib.figure.Figure at 0x1c3b58af4a8>"
      ]
     },
     "metadata": {},
     "output_type": "display_data"
    }
   ],
   "source": [
    "plt.plot(Xenergy, '.');"
   ]
  },
  {
   "cell_type": "code",
   "execution_count": 76,
   "metadata": {},
   "outputs": [
    {
     "data": {
      "image/png": "[encoded data removed]",
      "text/plain": [
       "<matplotlib.figure.Figure at 0x1c3b54fea20>"
      ]
     },
     "metadata": {},
     "output_type": "display_data"
    }
   ],
   "source": [
    "plt.plot(Tenergy, '.');"
   ]
  },
  {
   "cell_type": "code",
   "execution_count": 54,
   "metadata": {},
   "outputs": [
    {
     "data": {
      "image/png": "[encoded data removed]",
      "text/plain": [
       "<matplotlib.figure.Figure at 0x1c3b54bf2b0>"
      ]
     },
     "metadata": {},
     "output_type": "display_data"
    }
   ],
   "source": [
    "plt.plot(Eresults[0][1], Eresults[0][2], '.');"
   ]
  },
  {
   "cell_type": "code",
   "execution_count": 55,
   "metadata": {
    "scrolled": false
   },
   "outputs": [
    {
     "data": {
      "text/plain": [
       "[[0, 67.10380081116358, 67.41138506170212, 1.3082256317138672],\n",
       " [5, 65.495929314506427, 66.518883862113427, 21.911864757537842],\n",
       " [[5, 5], 64.832735976321402, 65.129179772411959, 29.92308497428894],\n",
       " [[10, 10], 63.044685911635419, 64.347971211693789, 53.89591693878174]]"
      ]
     },
     "execution_count": 55,
     "metadata": {},
     "output_type": "execute_result"
    }
   ],
   "source": [
    "Esummary = summarize(Eresults)\n",
    "Esummary\n",
    "#[[Hidden Layers], Average RMSE Training, Average RMSE Testing, seconds]"
   ]
  },
  {
   "cell_type": "code",
   "execution_count": 56,
   "metadata": {
    "scrolled": true
   },
   "outputs": [
    {
     "data": {
      "text/plain": [
       "[[10, 10], 63.044685911635419, 64.347971211693789, 53.89591693878174]"
      ]
     },
     "execution_count": 56,
     "metadata": {},
     "output_type": "execute_result"
    }
   ],
   "source": [
    "Ebest = bestNetwork(Esummary)\n",
    "Ebest"
   ]
  },
  {
   "cell_type": "markdown",
   "metadata": {},
   "source": [
    "#### Frogs Data"
   ]
  },
  {
   "cell_type": "code",
   "execution_count": 57,
   "metadata": {},
   "outputs": [
    {
     "data": {
      "text/plain": [
       "[[0,\n",
       "  [20.9954829742877,\n",
       "   20.996177901320362,\n",
       "   20.996525364836693,\n",
       "   20.9954829742877,\n",
       "   20.9954829742877],\n",
       "  [0.038220986796386379,\n",
       "   0.034746351633078529,\n",
       "   0.041695621959694229,\n",
       "   0.035441278665740095,\n",
       "   0.035441278665740095],\n",
       "  2.5529024600982666],\n",
       " [5,\n",
       "  [20.996699096594856,\n",
       "   20.996177901320362,\n",
       "   20.995656706045864,\n",
       "   20.996004169562195,\n",
       "   20.996525364836693],\n",
       "  [0.042390548992355802,\n",
       "   0.062543432939541344,\n",
       "   0.046560111188325225,\n",
       "   0.053509381514940932,\n",
       "   0.045170257123002086],\n",
       "  6.168088912963867],\n",
       " [[5, 5],\n",
       "  [20.996177901320362,\n",
       "   20.996177901320362,\n",
       "   20.995656706045864,\n",
       "   20.996004169562195,\n",
       "   20.996177901320362],\n",
       "  [0.050729673384294648,\n",
       "   0.072272411396803335,\n",
       "   0.049339819318971509,\n",
       "   0.041000694927032663,\n",
       "   0.052814454482279359],\n",
       "  7.655649900436401]]"
      ]
     },
     "execution_count": 57,
     "metadata": {},
     "output_type": "execute_result"
    }
   ],
   "source": [
    "Fresults = trainNNs(Xanuran, Tanuran, 0.8, [0, 5, [5, 5]], 5, 100, True)\n",
    "Fresults"
   ]
  },
  {
   "cell_type": "code",
   "execution_count": 58,
   "metadata": {
    "scrolled": true
   },
   "outputs": [
    {
     "data": {
      "image/png": "[encoded data removed]",
      "text/plain": [
       "<matplotlib.figure.Figure at 0x1c3b54df7b8>"
      ]
     },
     "metadata": {},
     "output_type": "display_data"
    }
   ],
   "source": [
    "plt.plot(Fresults[0][1], Fresults[0][2], '.');"
   ]
  },
  {
   "cell_type": "code",
   "execution_count": 59,
   "metadata": {
    "scrolled": false
   },
   "outputs": [
    {
     "data": {
      "text/plain": [
       "[[0, 20.995830437804031, 0.037109103544127865, 2.5529024600982666],\n",
       " [5, 20.996212647671996, 0.050034746351633089, 6.168088912963867],\n",
       " [[5, 5], 20.996038915913829, 0.0532314107018763, 7.655649900436401]]"
      ]
     },
     "execution_count": 59,
     "metadata": {},
     "output_type": "execute_result"
    }
   ],
   "source": [
    "Fsummary = summarize(Fresults)\n",
    "Fsummary\n",
    "#[[Hidden Layers], Average RMSE Training, Average RMSE Testing, seconds]"
   ]
  },
  {
   "cell_type": "code",
   "execution_count": 60,
   "metadata": {},
   "outputs": [
    {
     "data": {
      "text/plain": [
       "[0, 20.995830437804031, 0.037109103544127865, 2.5529024600982666]"
      ]
     },
     "execution_count": 60,
     "metadata": {},
     "output_type": "execute_result"
    }
   ],
   "source": [
    "Fbest = bestNetwork(Fsummary)\n",
    "Fbest"
   ]
  },
  {
   "cell_type": "markdown",
   "metadata": {},
   "source": [
    "### Trying NN Configs"
   ]
  },
  {
   "cell_type": "markdown",
   "metadata": {},
   "source": [
    "#### Energy"
   ]
  },
  {
   "cell_type": "code",
   "execution_count": 186,
   "metadata": {},
   "outputs": [
    {
     "data": {
      "image/png": "[encoded data removed]",
      "text/plain": [
       "<matplotlib.figure.Figure at 0x1b0872d5780>"
      ]
     },
     "metadata": {},
     "output_type": "display_data"
    }
   ],
   "source": [
    "Enet = nn.NeuralNetwork(Xenergy.shape[1], 2, Tenergy.shape[1])\n",
    "Enet.train(Xenergy, Tenergy, 100)\n",
    "plt.plot(Enet.getErrorTrace(), '-');"
   ]
  },
  {
   "cell_type": "code",
   "execution_count": 187,
   "metadata": {},
   "outputs": [
    {
     "data": {
      "image/png": "[encoded data removed]",
      "text/plain": [
       "<matplotlib.figure.Figure at 0x1b0869805f8>"
      ]
     },
     "metadata": {},
     "output_type": "display_data"
    }
   ],
   "source": [
    "Enet = nn.NeuralNetwork(Xenergy.shape[1], 10, Tenergy.shape[1])\n",
    "Enet.train(Xenergy, Tenergy, 100)\n",
    "plt.plot(Enet.getErrorTrace(), '-');"
   ]
  },
  {
   "cell_type": "code",
   "execution_count": 188,
   "metadata": {},
   "outputs": [
    {
     "data": {
      "image/png": "[encoded data removed]",
      "text/plain": [
       "<matplotlib.figure.Figure at 0x1b0872d0d68>"
      ]
     },
     "metadata": {},
     "output_type": "display_data"
    }
   ],
   "source": [
    "Enet = nn.NeuralNetwork(Xenergy.shape[1], 10, Tenergy.shape[1])\n",
    "Enet.train(Xenergy, Tenergy, 500)\n",
    "plt.plot(Enet.getErrorTrace(), '-');"
   ]
  },
  {
   "cell_type": "code",
   "execution_count": 190,
   "metadata": {},
   "outputs": [
    {
     "data": {
      "image/png": "[encoded data removed]",
      "text/plain": [
       "<matplotlib.figure.Figure at 0x1b0872dc860>"
      ]
     },
     "metadata": {},
     "output_type": "display_data"
    }
   ],
   "source": [
    "Enet = nn.NeuralNetwork(Xenergy.shape[1], 10, Tenergy.shape[1])\n",
    "Enet.train(Xenergy, Tenergy, 1000)\n",
    "plt.plot(Enet.getErrorTrace(), '-');"
   ]
  },
  {
   "cell_type": "code",
   "execution_count": 191,
   "metadata": {},
   "outputs": [
    {
     "data": {
      "image/png": "[encoded data removed]",
      "text/plain": [
       "<matplotlib.figure.Figure at 0x1b0863c9198>"
      ]
     },
     "metadata": {},
     "output_type": "display_data"
    }
   ],
   "source": [
    "Enet = nn.NeuralNetwork(Xenergy.shape[1], [2]*2, Tenergy.shape[1])\n",
    "Enet.train(Xenergy, Tenergy, 100)\n",
    "plt.plot(Enet.getErrorTrace(), '-');"
   ]
  },
  {
   "cell_type": "code",
   "execution_count": 192,
   "metadata": {},
   "outputs": [
    {
     "data": {
      "image/png": "[encoded data removed]",
      "text/plain": [
       "<matplotlib.figure.Figure at 0x1b0861744e0>"
      ]
     },
     "metadata": {},
     "output_type": "display_data"
    }
   ],
   "source": [
    "Enet = nn.NeuralNetwork(Xenergy.shape[1], [2]*4, Tenergy.shape[1])\n",
    "Enet.train(Xenergy, Tenergy, 100)\n",
    "plt.plot(Enet.getErrorTrace(), '-');"
   ]
  },
  {
   "cell_type": "code",
   "execution_count": 193,
   "metadata": {},
   "outputs": [
    {
     "data": {
      "image/png": "[encoded data removed]",
      "text/plain": [
       "<matplotlib.figure.Figure at 0x1b08615d7b8>"
      ]
     },
     "metadata": {},
     "output_type": "display_data"
    }
   ],
   "source": [
    "Enet = nn.NeuralNetwork(Xenergy.shape[1], [2]*8, Tenergy.shape[1])\n",
    "Enet.train(Xenergy, Tenergy, 100)\n",
    "plt.plot(Enet.getErrorTrace(), '-');"
   ]
  },
  {
   "cell_type": "code",
   "execution_count": 194,
   "metadata": {},
   "outputs": [
    {
     "data": {
      "image/png": "[encoded data removed]",
      "text/plain": [
       "<matplotlib.figure.Figure at 0x1b0872455f8>"
      ]
     },
     "metadata": {},
     "output_type": "display_data"
    }
   ],
   "source": [
    "Enet = nn.NeuralNetwork(Xenergy.shape[1], [5]*2, Tenergy.shape[1])\n",
    "Enet.train(Xenergy, Tenergy, 100)\n",
    "plt.plot(Enet.getErrorTrace(), '-');"
   ]
  },
  {
   "cell_type": "code",
   "execution_count": 195,
   "metadata": {},
   "outputs": [
    {
     "data": {
      "image/png": "[encoded data removed]",
      "text/plain": [
       "<matplotlib.figure.Figure at 0x1b087220eb8>"
      ]
     },
     "metadata": {},
     "output_type": "display_data"
    }
   ],
   "source": [
    "Enet = nn.NeuralNetwork(Xenergy.shape[1], [5]*4, Tenergy.shape[1])\n",
    "Enet.train(Xenergy, Tenergy, 100)\n",
    "plt.plot(Enet.getErrorTrace(), '-');"
   ]
  },
  {
   "cell_type": "code",
   "execution_count": 196,
   "metadata": {},
   "outputs": [
    {
     "data": {
      "image/png": "[encoded data removed]",
      "text/plain": [
       "<matplotlib.figure.Figure at 0x1b08717b9b0>"
      ]
     },
     "metadata": {},
     "output_type": "display_data"
    }
   ],
   "source": [
    "Enet = nn.NeuralNetwork(Xenergy.shape[1], [5]*2, Tenergy.shape[1])\n",
    "Enet.train(Xenergy, Tenergy, 300)\n",
    "plt.plot(Enet.getErrorTrace(), '-');"
   ]
  },
  {
   "cell_type": "code",
   "execution_count": 197,
   "metadata": {},
   "outputs": [
    {
     "data": {
      "image/png": "[encoded data removed]",
      "text/plain": [
       "<matplotlib.figure.Figure at 0x1b08717b2b0>"
      ]
     },
     "metadata": {},
     "output_type": "display_data"
    }
   ],
   "source": [
    "Enet = nn.NeuralNetwork(Xenergy.shape[1], [20]*1, Tenergy.shape[1])\n",
    "Enet.train(Xenergy, Tenergy, 100)\n",
    "plt.plot(Enet.getErrorTrace(), '-');"
   ]
  },
  {
   "cell_type": "code",
   "execution_count": 198,
   "metadata": {},
   "outputs": [
    {
     "data": {
      "image/png": "[encoded data removed]",
      "text/plain": [
       "<matplotlib.figure.Figure at 0x1b087161668>"
      ]
     },
     "metadata": {},
     "output_type": "display_data"
    }
   ],
   "source": [
    "Enet = nn.NeuralNetwork(Xenergy.shape[1], [20]*1, Tenergy.shape[1])\n",
    "Enet.train(Xenergy, Tenergy, 300)\n",
    "plt.plot(Enet.getErrorTrace(), '-');"
   ]
  },
  {
   "cell_type": "code",
   "execution_count": 199,
   "metadata": {},
   "outputs": [
    {
     "data": {
      "image/png": "[encoded data removed]",
      "text/plain": [
       "<matplotlib.figure.Figure at 0x1b08717b278>"
      ]
     },
     "metadata": {},
     "output_type": "display_data"
    }
   ],
   "source": [
    "Enet = nn.NeuralNetwork(Xenergy.shape[1], [20]*2, Tenergy.shape[1])\n",
    "Enet.train(Xenergy, Tenergy, 100)\n",
    "plt.plot(Enet.getErrorTrace(), '-');"
   ]
  },
  {
   "cell_type": "code",
   "execution_count": 200,
   "metadata": {},
   "outputs": [
    {
     "data": {
      "image/png": "[encoded data removed]",
      "text/plain": [
       "<matplotlib.figure.Figure at 0x1b085d606d8>"
      ]
     },
     "metadata": {},
     "output_type": "display_data"
    }
   ],
   "source": [
    "Enet = nn.NeuralNetwork(Xenergy.shape[1], [20]*4, Tenergy.shape[1])\n",
    "Enet.train(Xenergy, Tenergy, 100)\n",
    "plt.plot(Enet.getErrorTrace(), '-');"
   ]
  },
  {
   "cell_type": "code",
   "execution_count": 201,
   "metadata": {},
   "outputs": [
    {
     "data": {
      "image/png": "[encoded data removed]",
      "text/plain": [
       "<matplotlib.figure.Figure at 0x1b0872048d0>"
      ]
     },
     "metadata": {},
     "output_type": "display_data"
    }
   ],
   "source": [
    "Enet = nn.NeuralNetwork(Xenergy.shape[1], [20]*4, Tenergy.shape[1])\n",
    "Enet.train(Xenergy, Tenergy, 300)\n",
    "plt.plot(Enet.getErrorTrace(), '-');"
   ]
  },
  {
   "cell_type": "code",
   "execution_count": 202,
   "metadata": {},
   "outputs": [
    {
     "data": {
      "image/png": "[encoded data removed]",
      "text/plain": [
       "<matplotlib.figure.Figure at 0x1b086373240>"
      ]
     },
     "metadata": {},
     "output_type": "display_data"
    }
   ],
   "source": [
    "Enet = nn.NeuralNetwork(Xenergy.shape[1], [20]*4, Tenergy.shape[1])\n",
    "Enet.train(Xenergy, Tenergy, 1000)\n",
    "plt.plot(Enet.getErrorTrace(), '-');"
   ]
  },
  {
   "cell_type": "code",
   "execution_count": null,
   "metadata": {
    "collapsed": true
   },
   "outputs": [],
   "source": [
    "#just ran for too long, and time was running out :/\n",
    "Er = trainNNs(Xenergy, Tenergy, 0.8, \n",
    "              [0, 5, [5]*8, [10]*4, [20]*4, [40]*2, 100, [3]*10, [15, 10, 3, 10, 15], 50], 10, 250, classify=False)\n",
    "Es = summarize(Er)\n",
    "Eb = bestNetwork(Es)\n",
    "Eb"
   ]
  },
  {
   "cell_type": "code",
   "execution_count": 204,
   "metadata": {},
   "outputs": [
    {
     "data": {
      "text/plain": [
       "[75, 64.549817358379428, 64.887028688838299, 43.71610355377197]"
      ]
     },
     "execution_count": 204,
     "metadata": {},
     "output_type": "execute_result"
    }
   ],
   "source": [
    "Er = trainNNs(Xenergy, Tenergy, 0.8, \n",
    "              [0, 5, [2]*8, [5]*4, [15]*3, [25]*2, 75, [3]*5, [10, 5, 3, 5, 10], 30], 5, 50, classify=False)\n",
    "Es = summarize(Er)\n",
    "Eb = bestNetwork(Es)\n",
    "Eb"
   ]
  },
  {
   "cell_type": "markdown",
   "metadata": {},
   "source": [
    "#### Frogs"
   ]
  },
  {
   "cell_type": "code",
   "execution_count": 215,
   "metadata": {},
   "outputs": [
    {
     "data": {
      "image/png": "[encoded data removed]",
      "text/plain": [
       "<matplotlib.figure.Figure at 0x1b0871b8978>"
      ]
     },
     "metadata": {},
     "output_type": "display_data"
    }
   ],
   "source": [
    "Fnet = nn.NeuralNetwork(Xanuran.shape[1], 2, Tanuran.shape[1])\n",
    "Fnet.train(Xanuran, Tanuran, 100)\n",
    "plt.plot(Fnet.getErrorTrace(), '-');"
   ]
  },
  {
   "cell_type": "code",
   "execution_count": 216,
   "metadata": {},
   "outputs": [
    {
     "data": {
      "image/png": "[encoded data removed]",
      "text/plain": [
       "<matplotlib.figure.Figure at 0x1b08656d780>"
      ]
     },
     "metadata": {},
     "output_type": "display_data"
    }
   ],
   "source": [
    "Fnet = nn.NeuralNetwork(Xanuran.shape[1], 200, Tanuran.shape[1])\n",
    "Fnet.train(Xanuran, Tanuran, 50)\n",
    "plt.plot(Fnet.getErrorTrace(), '-');"
   ]
  },
  {
   "cell_type": "code",
   "execution_count": 223,
   "metadata": {},
   "outputs": [
    {
     "data": {
      "text/plain": [
       "[100, 20.995170257123004, 0.0097289784572619879, 24.06473469734192]"
      ]
     },
     "execution_count": 223,
     "metadata": {},
     "output_type": "execute_result"
    }
   ],
   "source": [
    "Fr = trainNNs(Xanuran, Tanuran, 0.8, \n",
    "              [0, 5, 10, 20, 50, [5]*3, 75, [3]*5, [10, 5, 10], 100], 5, 50, True)\n",
    "Fs = summarize(Fr)\n",
    "Fb = bestNetwork(Fs)\n",
    "Fb"
   ]
  },
  {
   "cell_type": "code",
   "execution_count": 69,
   "metadata": {},
   "outputs": [
    {
     "data": {
      "image/png": "[encoded data removed]",
      "text/plain": [
       "<matplotlib.figure.Figure at 0x1c3b5b87208>"
      ]
     },
     "metadata": {},
     "output_type": "display_data"
    }
   ],
   "source": [
    "import mlutils as ml \n",
    "FXtrain, FTtrain, FXtest, FTtest = ml.partition(Xanuran,Tanuran,(.8, .2), True)\n",
    "Fnet = nn.NeuralNetworkClassifier(FXtrain.shape[1], 100, len(np.unique(FTtrain)))\n",
    "Fnet.train(FXtrain, FTtrain, 50, True)\n",
    "FYtest = Fnet.use(FXtest)\n",
    "plt.plot(FXtest, FYtest, '.');"
   ]
  },
  {
   "cell_type": "markdown",
   "metadata": {
    "collapsed": true
   },
   "source": [
    "By the time I had most things working I was running out of time, and could not run for the best number of iterations."
   ]
  },
  {
   "cell_type": "code",
   "execution_count": 70,
   "metadata": {},
   "outputs": [
    {
     "name": "stdout",
     "output_type": "stream",
     "text": [
      "\n",
      "Testing summarize([[[1,1], [1.2, 1.3, 1.4], [2.2, 2.3, 2.4], 0.5], [[2,2,2], [4.4, 4.3, 4.2], [6.5, 6.4, 6.3], 0.6]])\n",
      "\n",
      "--- 10/10 points. Correctly returned [[[1, 1], 1.3, 2.3000000000000003, 0.5], [[2, 2, 2], 4.3, 6.3999999999999995, 0.6]]\n",
      "\n",
      "Testing bestNetwork([[[1, 1], 1.3, 2.3, 0.5], [[2, 2, 2], 4.3, 1.3, 0.6]])\n",
      "\n",
      "--- 10/10 points. Correctly returned [[2, 2, 2], 4.3, 1.3, 0.6]\n",
      "\n",
      "X = np.random.uniform(-1, 1, (100, 3))\n",
      "T = np.hstack(((X**2 - 0.2*X**3).sum(axis=1,keepdims=True),\n",
      "               (np.sin(X)).sum(axis=1,keepdims=True)))\n",
      "result = trainNNs(X, T, 0.7, [0, 5, 10, [20, 20]], 10, 100, False)\n",
      "\n",
      "--- 20/20 points. Correct.\n",
      "\n",
      "Testing bestNetwork(summarize(result))\n",
      "\n",
      "--- 20/20 points. You correctly found that network [20, 20] is best.\n",
      "\n",
      "C:\\Users\\BadMan\\Google Drive\\CS 440-001 (Introduction to Artificial Intelligence)\\Assignments Execution Grade is 60/60\n",
      "\n",
      "======================= The regression data set =======================\n",
      "\n",
      "--- _/5 points. Read the data in energydata_complete.csv into variables Xenergy and Tenergy.\n",
      "\n",
      "--- _/5 points. Train some networks by calling the NeuralNetwork constructor and train \n",
      "method and plot the error trace to help you decide now many iterations might be needed.\n",
      "\n",
      "--- _/5 points. Try at least 10 different hidden layer structures using trainNNs.\n",
      "\n",
      "--- _/5 points. Train another network with your best hidden layer structure on 0.8 of the data and test it on remaining 0.2 of the data. \n",
      "Plot the predicted and actual Appliances energy use, and the predicted and actual lights energy use, in two separate plots. \n",
      "Discuss what you see.\n",
      "\n",
      "======================= Classification data set =======================\n",
      "\n",
      "--- _/5 points. Read the data in Frogs_MFCCs.csv into variables Xanuran and Tanuran.\n",
      "\n",
      "--- _/5 points. Train some networks by calling the NeuralNetwork constructor and train \n",
      "method and plot the error trace to help you decide now many iterations might be needed.\n",
      "\n",
      "--- _/5 points. Try at least 10 different hidden layer structures using trainNNs.\n",
      "\n",
      "--- _/5 points. Train another network with your best hidden layer structure on 0.8 of the data and test it on remaining 0.2 of the data. \n",
      "Plot the predicted and actual class labels. Discuss what you see.\n",
      "\n",
      "C:\\Users\\BadMan\\Google Drive\\CS 440-001 (Introduction to Artificial Intelligence)\\Assignments Notebook Grade is __/40\n",
      "\n",
      "C:\\Users\\BadMan\\Google Drive\\CS 440-001 (Introduction to Artificial Intelligence)\\Assignments FINAL GRADE is __/100\n"
     ]
    },
    {
     "data": {
      "text/plain": [
       "<matplotlib.figure.Figure at 0x1c3b51be2b0>"
      ]
     },
     "metadata": {},
     "output_type": "display_data"
    }
   ],
   "source": [
    "%run -i \"grader.py\""
   ]
  },
  {
   "cell_type": "code",
   "execution_count": null,
   "metadata": {
    "collapsed": true
   },
   "outputs": [],
   "source": []
  }
 ],
 "metadata": {
  "anaconda-cloud": {},
  "kernelspec": {
   "display_name": "Python 3",
   "language": "python",
   "name": "python3"
  },
  "language_info": {
   "codemirror_mode": {
    "name": "ipython",
    "version": 3
   },
   "file_extension": ".py",
   "mimetype": "text/x-python",
   "name": "python",
   "nbconvert_exporter": "python",
   "pygments_lexer": "ipython3",
   "version": "3.6.1"
  },
  "toc": {
   "nav_menu": {},
   "number_sections": true,
   "sideBar": true,
   "skip_h1_title": false,
   "toc_cell": false,
   "toc_position": {},
   "toc_section_display": "block",
   "toc_window_display": false
  }
 },
 "nbformat": 4,
 "nbformat_minor": 1
}
