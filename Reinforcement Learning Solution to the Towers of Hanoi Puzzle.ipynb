{
 "cells": [
  {
   "cell_type": "markdown",
   "metadata": {},
   "source": [
    "# Reinforcement Learning Solution to the Towers of Hanoi Puzzle"
   ]
  },
  {
   "cell_type": "markdown",
   "metadata": {},
   "source": [
    "Joseph Griffith"
   ]
  },
  {
   "cell_type": "markdown",
   "metadata": {},
   "source": [
    "# Overview - \n",
    "These functions implement reinforcement learning on the Towers of Hanoi puzzle, effectiveness of which is controlled with the repetitions, learning rate ('rho'), and epsilon decay factor arguments.\n",
    "\n",
    "The training function will repeatedly solve the puzzle, initially making random moves, but gradually transitioning to moves chosen based on it's previous experience."
   ]
  },
  {
   "cell_type": "markdown",
   "metadata": {},
   "source": [
    "# Functions - "
   ]
  },
  {
   "cell_type": "markdown",
   "metadata": {},
   "source": [
    "Returns a dictionary with keys 0-n, where 0 is the peg ascii, and 1-n are the discs of appropriate size"
   ]
  },
  {
   "cell_type": "code",
   "execution_count": 1,
   "metadata": {
    "collapsed": true
   },
   "outputs": [],
   "source": [
    "def makePieces(n):\n",
    "    pieces = {}\n",
    "    width = 2*n-1\n",
    "    length = 2*n-1\n",
    "    for i in reversed(range(n+1)):\n",
    "        string = '='*length if i > 0 else '|'\n",
    "        while len(string) < width:\n",
    "            string = ' ' + string + ' '\n",
    "        length = length-2 if length > 1 else 0\n",
    "        pieces[i] = string\n",
    "        #print(i, width, length, width-length)        \n",
    "    for i in range(1, n+1):\n",
    "        pieces[i] = '\\033[1m' + pieces[i] + '\\033[0m'\n",
    "    return pieces"
   ]
  },
  {
   "cell_type": "markdown",
   "metadata": {},
   "source": [
    "Returns an ascii list version of the puzzle state for printing"
   ]
  },
  {
   "cell_type": "code",
   "execution_count": 2,
   "metadata": {
    "collapsed": true
   },
   "outputs": [],
   "source": [
    "def stateToASCII(state, n=3):\n",
    "    piece = makePieces(n)\n",
    "    snapshot = [[], [], []]\n",
    "    for i in range(3):   #number of pegs - doesnt change\n",
    "        if state[i]:     #peg not empty\n",
    "            for j in range(len(state[i])):\n",
    "                snapshot[i].append(piece[state[i][j]])\n",
    "        while len(snapshot[i]) < n:\n",
    "                snapshot[i].insert(0, piece[0])\n",
    "    return snapshot"
   ]
  },
  {
   "cell_type": "markdown",
   "metadata": {},
   "source": [
    "Returns the number of discs in a puzzle state"
   ]
  },
  {
   "cell_type": "code",
   "execution_count": 3,
   "metadata": {
    "collapsed": true
   },
   "outputs": [],
   "source": [
    "def findN(state):\n",
    "    n = 0\n",
    "    for i in range(len(state)):\n",
    "        n += len(state[i])\n",
    "    return n"
   ]
  },
  {
   "cell_type": "markdown",
   "metadata": {},
   "source": [
    "Prints out an ascii representation of the puzzle state"
   ]
  },
  {
   "cell_type": "code",
   "execution_count": 4,
   "metadata": {
    "collapsed": true
   },
   "outputs": [],
   "source": [
    "#will print invalid states\n",
    "def printState(state):\n",
    "    n = findN(state)\n",
    "    n = n if n >= 3 else 3\n",
    "    snapshot = stateToASCII(state, n)\n",
    "    out = ''\n",
    "    pad = [out for i in range(n)]   # <expression> for <variable> in <collection> \n",
    "    while len(snapshot) < n:\n",
    "        snapshot.append(pad)\n",
    "    for i in range(n):\n",
    "        lastrow = len(snapshot[i])-1\n",
    "        und = '\\033[4m' if i == lastrow else ''\n",
    "        #out = out + '\\033[4m'\n",
    "        for j in range(n):\n",
    "            out += und + ' ' + snapshot[j][i] + und + ' ' if j < 4 else ''\n",
    "        out = out + '\\033[0m' if i == lastrow else out\n",
    "        out = out + '\\n' if i != len(snapshot)-1 else out\n",
    "    print(out, '\\n')   "
   ]
  },
  {
   "cell_type": "markdown",
   "metadata": {},
   "source": [
    "Prints all the puzzle states in a solution path"
   ]
  },
  {
   "cell_type": "code",
   "execution_count": 5,
   "metadata": {
    "collapsed": true
   },
   "outputs": [],
   "source": [
    "def pathPrint(path):\n",
    "    print('solution length:', len(path))\n",
    "    for i in path:\n",
    "        printState(i)"
   ]
  },
  {
   "cell_type": "markdown",
   "metadata": {},
   "source": [
    "Returns a list of valid moves from the given puzzle state"
   ]
  },
  {
   "cell_type": "code",
   "execution_count": 6,
   "metadata": {
    "collapsed": true
   },
   "outputs": [],
   "source": [
    "def validMoves(state):\n",
    "    #pegStates = [ [1,2,3], [2,3], [3], [1,3], [1,2], [2], [] ]   #for hanoi(3)\n",
    "    moves = []\n",
    "    if state[0]:   #adds moves available from the first peg\n",
    "        moves.append([1, 2]) if not state[1] or (state[1] and state[0][0] < state[1][0]) else moves\n",
    "        moves.append([1, 3]) if not state[2] or (state[2] and state[0][0] < state[2][0]) else moves\n",
    "    if state[1]:   #adds moves available from the second peg\n",
    "        moves.append([2, 3]) if not state[2] or (state[2] and state[1][0] < state[2][0]) else moves\n",
    "        moves.append([2, 1]) if not state[0] or (state[0] and state[1][0] < state[0][0]) else moves\n",
    "    if state[2]:   #adds moves available from the third peg\n",
    "        moves.append([3, 1]) if not state[0] or (state[0] and state[2][0] < state[0][0]) else moves\n",
    "        moves.append([3, 2]) if not state[1] or (state[1] and state[2][0] < state[1][0]) else moves \n",
    "    return moves"
   ]
  },
  {
   "cell_type": "code",
   "execution_count": 7,
   "metadata": {
    "collapsed": true
   },
   "outputs": [],
   "source": [
    "from copy import deepcopy as deep"
   ]
  },
  {
   "cell_type": "markdown",
   "metadata": {},
   "source": [
    "Returns the resulting puzzle state from a state/move pair, or the original state, if the move is invalid"
   ]
  },
  {
   "cell_type": "code",
   "execution_count": 8,
   "metadata": {
    "collapsed": true
   },
   "outputs": [],
   "source": [
    "def makeMove(state, move):\n",
    "    if validMoves(state).count(move) > 0:\n",
    "        new = deep(state)\n",
    "        new[move[1]-1].insert(0, new[move[0]-1].pop(0))\n",
    "        return new\n",
    "    print ('Move ', move, ' is not a valid move from state ', state)\n",
    "    return state"
   ]
  },
  {
   "cell_type": "code",
   "execution_count": 9,
   "metadata": {
    "collapsed": true
   },
   "outputs": [],
   "source": [
    "#solving for other sizes does not require different functions\n",
    "printState_4disk = printState\n",
    "validMoves_4disk = validMoves\n",
    "makeMove_4disk = makeMove"
   ]
  },
  {
   "cell_type": "markdown",
   "metadata": {},
   "source": [
    "Returns either a random move, or the 'greedy' (best known) move for a puzzle state, based on the supplied epsilon"
   ]
  },
  {
   "cell_type": "code",
   "execution_count": 10,
   "metadata": {
    "collapsed": true
   },
   "outputs": [],
   "source": [
    "#adapted from code supplied in class\n",
    "def epsilonGreedy(epsilon, Q, state):\n",
    "    valid = validMoves(state)\n",
    "    if np.random.uniform() < epsilon:\t\t\t\t\t\t# Random Move        \n",
    "        return valid[np.random.choice(range(len(valid)))]\n",
    "    else:\t\t\t\t\t\t\t\t\t\t\t\t\t# Greedy Move        \n",
    "        #constructs array of Q values, which is 0 if the state/move key isnt in Q\n",
    "        #list comprehensions: [ <expression> for <variable> in <collection> (and <var2> in <coll2> ...) (if <condition> (and <condition> ...)) ]\n",
    "        Qs = np.array([Q.get(stateMoveTuple(state, m), 0) for m in valid])\n",
    "        return valid[ np.argmax(Qs) ]"
   ]
  },
  {
   "cell_type": "markdown",
   "metadata": {},
   "source": [
    "Returns the start and end states for a hanoi puzzle of the given number of discs"
   ]
  },
  {
   "cell_type": "code",
   "execution_count": 11,
   "metadata": {
    "collapsed": true
   },
   "outputs": [],
   "source": [
    "def makePuzzle(n):\n",
    "    stack = []\n",
    "    for i in range(n):\n",
    "        stack.append(i+1)\n",
    "    return [stack, [], []], [[], [], stack]"
   ]
  },
  {
   "cell_type": "markdown",
   "metadata": {},
   "source": [
    "Returns the given puzzle state/move pair as a tuple suitable as a dictionary key"
   ]
  },
  {
   "cell_type": "code",
   "execution_count": 12,
   "metadata": {
    "collapsed": true
   },
   "outputs": [],
   "source": [
    "def stateMoveTuple(state, move):\n",
    "    return (stateTuple(state), tuple(move))"
   ]
  },
  {
   "cell_type": "markdown",
   "metadata": {},
   "source": [
    "Returns a puzzle state that has been converted to a tuple"
   ]
  },
  {
   "cell_type": "code",
   "execution_count": 13,
   "metadata": {
    "collapsed": true
   },
   "outputs": [],
   "source": [
    "def stateTuple(state):\n",
    "    out = []\n",
    "    for i in range(len(state)):\n",
    "         out.append(tuple(state[i]))\n",
    "    return tuple(out)"
   ]
  },
  {
   "cell_type": "code",
   "execution_count": 14,
   "metadata": {
    "collapsed": true
   },
   "outputs": [],
   "source": [
    "import numpy as np"
   ]
  },
  {
   "cell_type": "markdown",
   "metadata": {},
   "source": [
    "**trainQ()** - constructs a Q dictionary with negative 'distances' to Hanoi puzzle goal state\n",
    "<br>**Arguments** - \n",
    "* nRepetitions - the number of times the function will solve the puzzle\n",
    "* rho - the learning rate \n",
    "* epsilonDecayFactor - rate at which the program will shift from random to learned move choices\n",
    "* validMovesF - a function that returns the valid moves at a puzzle state\n",
    "* makeMoveF - a function that returns a puzzle state when given a state and move\n",
    "* n - an optional argument for the number of discs in the puzzle; default is 3\n",
    "<br>**Returns** - Returns Q and list of the number of steps to reach goal for each repetition."
   ]
  },
  {
   "cell_type": "code",
   "execution_count": 40,
   "metadata": {
    "collapsed": true
   },
   "outputs": [],
   "source": [
    "#adapted from code supplied in class\n",
    "def trainQ(nRepetitions, rho, epsilonDecayFactor, validMovesF, makeMoveF, n=3):\n",
    "    rho = 0.2\t\t\t\t\t\t#learning rate\n",
    "    epsilon = 1.0\t\t\t\t\t#chance of taking a random action\n",
    "    epsilons = np.zeros(nRepetitions)\t\t#keeping the epsilons to plot?\n",
    "    Q = {}\t\t\t\t\t\t\t\t\t#expected value of future reinforcements\n",
    "    steps = []\n",
    "    \n",
    "    for gamenum in range(nRepetitions):\n",
    "        epsilon *= epsilonDecayFactor\t\t\t\t#decay epsilon\n",
    "        #epsilons[gamenum] = epsilon\t\t\t\t\t#store each epsilon for plotting\n",
    "        step = 0\t\t\t\t\t\t\t\t\t#skip first move\n",
    "        state, goal = makePuzzle(n)\n",
    "        done = False\n",
    "        r = -1\t\t\t\t\t\t\t\t\t\t#reinforcement value\n",
    "        \n",
    "        while not done:        \n",
    "            step += 1\n",
    "\n",
    "            move = epsilonGreedy(epsilon, Q, state)\t\t\t#chooses random move, or 'best', depending on epsilon\n",
    "            newstate = makeMoveF(state, move)\n",
    "            key = stateMoveTuple(state, move)\n",
    "\n",
    "            if newstate == goal:\n",
    "                #r = 0\n",
    "                done = True\n",
    "\n",
    "            if key not in Q:\n",
    "                Q[key] = 0\n",
    "\n",
    "            if step > 1 and not done:\n",
    "                oldkey = stateMoveTuple(oldstate, oldmove)\n",
    "\n",
    "                TDE = r + Q[key] - Q[oldkey]\n",
    "                Q[oldkey] += rho*(TDE)\n",
    "            elif done:\n",
    "                Q[oldkey] += rho*(r - Q[oldkey])\n",
    "\n",
    "            oldstate = state\n",
    "            oldmove = move\n",
    "            state = newstate\n",
    "\n",
    "        steps.append(step)\n",
    "    return Q, steps    "
   ]
  },
  {
   "cell_type": "markdown",
   "metadata": {},
   "source": [
    "**testQ()** - constructs a greedy path from the Q given dictionary\n",
    "<br>**Arguments** - \n",
    "* Q - a dictionary with (state, move) tuple keys and number values ranging from (-infinity, 0]\n",
    "* maxSteps - the maximum length of the path that will be constructed\n",
    "* validMovesF - a function that returns the valid moves at a puzzle state\n",
    "* makeMoveF - a function that returns a puzzle state when given a state and move\n",
    "* n - an optional argument for the number of discs in the puzzle; default is 3\n",
    "<br>**Returns** - a list of states that make up the constructed path"
   ]
  },
  {
   "cell_type": "code",
   "execution_count": 41,
   "metadata": {
    "collapsed": true
   },
   "outputs": [],
   "source": [
    "def testQ(Q, maxSteps, validMovesF, makeMoveF, n=3):\n",
    "    path = []\n",
    "    state, goal = makePuzzle(n)\n",
    "    path.append(state)\n",
    "    i = 1\n",
    "    while state != goal and i < maxSteps:\n",
    "        move = epsilonGreedy(-9999, Q, state)\n",
    "        state = makeMove(state, move)\n",
    "        path.append(state)\n",
    "        i += 1\n",
    "    return path"
   ]
  },
  {
   "cell_type": "markdown",
   "metadata": {
    "collapsed": true
   },
   "source": [
    "# Testing Sandbox - "
   ]
  },
  {
   "cell_type": "code",
   "execution_count": 49,
   "metadata": {
    "scrolled": false
   },
   "outputs": [
    {
     "name": "stdout",
     "output_type": "stream",
     "text": [
      "76 [87, 95, 79, 197, 191, 14, 43, 52, 12, 11, 36, 17, 14, 28, 22, 9, 42, 10, 41, 13, 11, 16, 8, 9, 23, 13, 23, 7, 26, 7, 7, 9, 7, 9, 12, 8, 7, 29, 7, 7, 8, 7, 7, 7, 7, 10, 7, 7, 7, 7]\n",
      "dict_values([-5.316163133346099, -4.734113086170433, -4.440534717467031, -4.71561752769301, -4.228099609650726, -3.72258663977758, -3.899519615478354, -4.218104699835312, -4.18171551099092, -4.626156397236546, -4.335654777486227, -3.33961897481796, -2.3372313155349222, -2.134309255791728, -2.496996216320229, -3.1872608846706485, -3.4098575042834094, -2.6124299079030724, -3.3909511066623677, -4.616690322943214, -5.3004152978360075, -3.4727453904420966, -3.224395625675042, -3.8873305442268578, -3.844574401497906, -3.4705921274056974, -3.292408848094368, -3.5821363848083805, -3.7299954020163852, -3.7621296993810223, -1.6958639109993137, -1.5535446308784386, -1.3362456714831206, -1.6847565143523981, -1.6472301867469321, -1.59156055146496, -1.52345571968811, -1.0363623227392, -1.2721870351695286, -1.3940707262233314, -0.756544, -0.6768, 0, -3.211136986105125, -2.9829401727711535, -2.906465584493196, -2.9434152279999783, -2.7756661855012505, -2.908874003346976, -2.7824001072390487, -2.527614997652105, -2.945927910549996, -2.6257339505270347, -2.9535818110255363, -3.0129197329333333, -3.086482846879316, -3.120075643182201, -3.3751469590799377, -3.228702853113894, -2.3787433893702343, -1.3245260963213519, -1.8080023112196038, -1.8596390888913084, 0, -3.303899418557635, -0.5556070399999999, -1.9383914082938656, -2.078249469986013, -2.841806347115979, -2.9021586670320945, -3.047936783618838, -3.491108065588519, -3.329924701943992, -0.5264, -0.24, -0.48104704])\n",
      "dict_values([-5.436061093197978, -4.854286595558942, -5.377493048888894, -4.565919051300932, -4.77046059982017, -4.195763106600379, -4.8564596121668675, -4.4715617545168485, -4.377493048888892, -3.510048833641731, -3.4265812537434837, -3.748292899375836, -4.190257307188336, -3.837365300845497, -4.27175590667334, -3.7940811656943323, -3.861217726448695, -3.8627588189125808, -3.4458670104998634, -3.923474635915646, -3.377493048888891, -2.37749304888889, -1.6783394457144178, -1.2818191992708041, -1.2353434544012463, -1.4321186394491356, -1.239766528, -1.243821056, -1.4637068192972802, -2.1143994049535078, -2.6063463160048936, -2.0606653943840767, -2.538657904964099, -2.8776647242880253, -2.963794474171961, -3.087276369793763, -3.0343483450034503, -2.8620136839509636, -2.5060039373954406, -2.067963446374848, -1.1770273383922503, -1.05467392, -1.3615907839999999, -1.0269787136, -0.41766400000000004, -0.6113510400000001, -0.7324663808, -1.2128596628939472, -1.694438744358436, -2.511107769855922, -3.1990162767789347, -0.84935936, -0.696896, 0, -3.7090807710742797, -3.243744925246125, -2.6098128902983, -3.4304809721274077, -3.0823390716292804, -2.7861107733352597, -3.2354471369388937, -3.191654561968422, -2.9748174295545375, -2.8332040165916714, -3.038475177545008, -3.2338177377377857, -2.5502339388619455, -2.540503223867364, -3.07236074098202, -3.3905308527548406, -3.1940512010280764, -1.6892124791587964, -1.3774930488888892, -0.4736, 0, -0.45446400000000003])\n",
      "solution length: 8\n",
      " \u001b[1m  =  \u001b[0m    |      |   \n",
      " \u001b[1m === \u001b[0m    |      |   \n",
      "\u001b[4m \u001b[1m=====\u001b[0m\u001b[4m \u001b[4m   |  \u001b[4m \u001b[4m   |  \u001b[4m \u001b[0m \n",
      "\n",
      "   |      |      |   \n",
      " \u001b[1m === \u001b[0m    |      |   \n",
      "\u001b[4m \u001b[1m=====\u001b[0m\u001b[4m \u001b[4m   |  \u001b[4m \u001b[4m \u001b[1m  =  \u001b[0m\u001b[4m \u001b[0m \n",
      "\n",
      "   |      |      |   \n",
      "   |      |      |   \n",
      "\u001b[4m \u001b[1m=====\u001b[0m\u001b[4m \u001b[4m \u001b[1m === \u001b[0m\u001b[4m \u001b[4m \u001b[1m  =  \u001b[0m\u001b[4m \u001b[0m \n",
      "\n",
      "   |      |      |   \n",
      "   |    \u001b[1m  =  \u001b[0m    |   \n",
      "\u001b[4m \u001b[1m=====\u001b[0m\u001b[4m \u001b[4m \u001b[1m === \u001b[0m\u001b[4m \u001b[4m   |  \u001b[4m \u001b[0m \n",
      "\n",
      "   |      |      |   \n",
      "   |    \u001b[1m  =  \u001b[0m    |   \n",
      "\u001b[4m   |  \u001b[4m \u001b[4m \u001b[1m === \u001b[0m\u001b[4m \u001b[4m \u001b[1m=====\u001b[0m\u001b[4m \u001b[0m \n",
      "\n",
      "   |      |      |   \n",
      "   |      |      |   \n",
      "\u001b[4m \u001b[1m  =  \u001b[0m\u001b[4m \u001b[4m \u001b[1m === \u001b[0m\u001b[4m \u001b[4m \u001b[1m=====\u001b[0m\u001b[4m \u001b[0m \n",
      "\n",
      "   |      |      |   \n",
      "   |      |    \u001b[1m === \u001b[0m \n",
      "\u001b[4m \u001b[1m  =  \u001b[0m\u001b[4m \u001b[4m   |  \u001b[4m \u001b[4m \u001b[1m=====\u001b[0m\u001b[4m \u001b[0m \n",
      "\n",
      "   |      |    \u001b[1m  =  \u001b[0m \n",
      "   |      |    \u001b[1m === \u001b[0m \n",
      "\u001b[4m   |  \u001b[4m \u001b[4m   |  \u001b[4m \u001b[4m \u001b[1m=====\u001b[0m\u001b[4m \u001b[0m \n",
      "\n"
     ]
    }
   ],
   "source": [
    "#hanoi(3)\n",
    "Q, stepsToGoal = trainQ(50, 0.65, 0.9, validMoves, makeMove)\n",
    "print(len(Q), stepsToGoal)\n",
    "print(Q.values())\n",
    "Q, stepsToGoal = trainQ(3000, 0.65, 0.9, validMoves, makeMove)\n",
    "path = testQ(Q, 20, validMoves, makeMove)\n",
    "print(Q.values())   #strongly tied to learning/decay rate - will go up a lot if those are slower... \n",
    "pathPrint(path)"
   ]
  },
  {
   "cell_type": "markdown",
   "metadata": {},
   "source": [
    "4 disc puzzle"
   ]
  },
  {
   "cell_type": "code",
   "execution_count": 22,
   "metadata": {
    "scrolled": false
   },
   "outputs": [
    {
     "name": "stdout",
     "output_type": "stream",
     "text": [
      "238 [1342, 185, 822, 1166, 315, 267, 1693, 355, 516, 81, 125, 192, 103, 313, 677, 68, 282, 398, 255, 322, 291, 47, 139, 183, 131, 193, 32, 50, 82, 120, 58, 182, 89, 79, 108, 80, 99, 104, 114, 68, 75, 130, 75, 65, 29, 55, 79, 149, 168, 140, 98, 87, 28, 165, 214, 21, 97, 52, 23, 76, 24, 50, 59, 85, 51, 107, 36, 40, 57, 36, 27, 30, 82, 108, 26, 103, 48, 37, 38, 35, 42, 68, 24, 32, 25, 33, 59, 36, 39, 65, 20, 73, 27, 74, 28, 37, 25, 69, 27, 34, 27, 28, 27, 23, 26, 26, 48, 36, 21, 22, 48, 69, 38, 18, 27, 29, 24, 17, 20, 19, 27, 79, 64, 47, 45, 24, 18, 23, 15, 22, 20, 19, 19, 23, 87, 61, 25, 80, 65, 23, 62, 31, 20, 36, 20, 16, 21, 29, 15, 23, 24, 23, 19, 40, 20, 42, 18, 16, 20, 18, 15, 32, 19, 15, 22, 19, 19, 15, 16, 21, 33, 19, 22, 20, 75, 80, 38, 28, 57, 19, 15, 15, 17, 16, 17, 19, 16, 16, 15, 21, 17, 15, 19, 20, 15, 16, 17, 17, 21, 26, 15, 16, 23, 15, 15, 21, 17, 15, 15, 15, 18, 15, 15, 15, 16, 22, 19, 17, 15, 17, 15, 17, 18, 15, 17, 17, 15, 17, 15, 19, 17, 15, 16, 15, 16, 26, 17, 18, 15, 18, 15, 15, 17, 17, 15, 15, 19, 16, 15, 17, 15, 19, 15, 15, 16, 19, 15, 17, 15, 19, 17, 15, 15, 15, 15, 19, 31, 15, 17, 15, 16, 17, 15, 17, 15, 17, 15, 15, 18, 17, 17, 15, 17, 15, 21, 15, 15, 15, 16, 17, 15, 17, 15, 19, 17, 15, 15, 15, 17, 15]\n",
      "solution length: 16\n",
      " \u001b[1m   =   \u001b[0m     |        |      \n",
      " \u001b[1m  ===  \u001b[0m     |        |      \n",
      " \u001b[1m ===== \u001b[0m     |        |      \n",
      "\u001b[4m \u001b[1m=======\u001b[0m\u001b[4m \u001b[4m    |   \u001b[4m \u001b[4m    |   \u001b[4m \u001b[4m \u001b[4m \u001b[0m \n",
      "\n",
      "    |        |        |      \n",
      " \u001b[1m  ===  \u001b[0m     |        |      \n",
      " \u001b[1m ===== \u001b[0m     |        |      \n",
      "\u001b[4m \u001b[1m=======\u001b[0m\u001b[4m \u001b[4m \u001b[1m   =   \u001b[0m\u001b[4m \u001b[4m    |   \u001b[4m \u001b[4m \u001b[4m \u001b[0m \n",
      "\n",
      "    |        |        |      \n",
      "    |        |        |      \n",
      " \u001b[1m ===== \u001b[0m     |        |      \n",
      "\u001b[4m \u001b[1m=======\u001b[0m\u001b[4m \u001b[4m \u001b[1m   =   \u001b[0m\u001b[4m \u001b[4m \u001b[1m  ===  \u001b[0m\u001b[4m \u001b[4m \u001b[4m \u001b[0m \n",
      "\n",
      "    |        |        |      \n",
      "    |        |        |      \n",
      " \u001b[1m ===== \u001b[0m     |     \u001b[1m   =   \u001b[0m   \n",
      "\u001b[4m \u001b[1m=======\u001b[0m\u001b[4m \u001b[4m    |   \u001b[4m \u001b[4m \u001b[1m  ===  \u001b[0m\u001b[4m \u001b[4m \u001b[4m \u001b[0m \n",
      "\n",
      "    |        |        |      \n",
      "    |        |        |      \n",
      "    |        |     \u001b[1m   =   \u001b[0m   \n",
      "\u001b[4m \u001b[1m=======\u001b[0m\u001b[4m \u001b[4m \u001b[1m ===== \u001b[0m\u001b[4m \u001b[4m \u001b[1m  ===  \u001b[0m\u001b[4m \u001b[4m \u001b[4m \u001b[0m \n",
      "\n",
      "    |        |        |      \n",
      "    |        |        |      \n",
      " \u001b[1m   =   \u001b[0m     |        |      \n",
      "\u001b[4m \u001b[1m=======\u001b[0m\u001b[4m \u001b[4m \u001b[1m ===== \u001b[0m\u001b[4m \u001b[4m \u001b[1m  ===  \u001b[0m\u001b[4m \u001b[4m \u001b[4m \u001b[0m \n",
      "\n",
      "    |        |        |      \n",
      "    |        |        |      \n",
      " \u001b[1m   =   \u001b[0m  \u001b[1m  ===  \u001b[0m     |      \n",
      "\u001b[4m \u001b[1m=======\u001b[0m\u001b[4m \u001b[4m \u001b[1m ===== \u001b[0m\u001b[4m \u001b[4m    |   \u001b[4m \u001b[4m \u001b[4m \u001b[0m \n",
      "\n",
      "    |        |        |      \n",
      "    |     \u001b[1m   =   \u001b[0m     |      \n",
      "    |     \u001b[1m  ===  \u001b[0m     |      \n",
      "\u001b[4m \u001b[1m=======\u001b[0m\u001b[4m \u001b[4m \u001b[1m ===== \u001b[0m\u001b[4m \u001b[4m    |   \u001b[4m \u001b[4m \u001b[4m \u001b[0m \n",
      "\n",
      "    |        |        |      \n",
      "    |     \u001b[1m   =   \u001b[0m     |      \n",
      "    |     \u001b[1m  ===  \u001b[0m     |      \n",
      "\u001b[4m    |   \u001b[4m \u001b[4m \u001b[1m ===== \u001b[0m\u001b[4m \u001b[4m \u001b[1m=======\u001b[0m\u001b[4m \u001b[4m \u001b[4m \u001b[0m \n",
      "\n",
      "    |        |        |      \n",
      "    |        |        |      \n",
      "    |     \u001b[1m  ===  \u001b[0m  \u001b[1m   =   \u001b[0m   \n",
      "\u001b[4m    |   \u001b[4m \u001b[4m \u001b[1m ===== \u001b[0m\u001b[4m \u001b[4m \u001b[1m=======\u001b[0m\u001b[4m \u001b[4m \u001b[4m \u001b[0m \n",
      "\n",
      "    |        |        |      \n",
      "    |        |        |      \n",
      "    |        |     \u001b[1m   =   \u001b[0m   \n",
      "\u001b[4m \u001b[1m  ===  \u001b[0m\u001b[4m \u001b[4m \u001b[1m ===== \u001b[0m\u001b[4m \u001b[4m \u001b[1m=======\u001b[0m\u001b[4m \u001b[4m \u001b[4m \u001b[0m \n",
      "\n",
      "    |        |        |      \n",
      "    |        |        |      \n",
      " \u001b[1m   =   \u001b[0m     |        |      \n",
      "\u001b[4m \u001b[1m  ===  \u001b[0m\u001b[4m \u001b[4m \u001b[1m ===== \u001b[0m\u001b[4m \u001b[4m \u001b[1m=======\u001b[0m\u001b[4m \u001b[4m \u001b[4m \u001b[0m \n",
      "\n",
      "    |        |        |      \n",
      "    |        |        |      \n",
      " \u001b[1m   =   \u001b[0m     |     \u001b[1m ===== \u001b[0m   \n",
      "\u001b[4m \u001b[1m  ===  \u001b[0m\u001b[4m \u001b[4m    |   \u001b[4m \u001b[4m \u001b[1m=======\u001b[0m\u001b[4m \u001b[4m \u001b[4m \u001b[0m \n",
      "\n",
      "    |        |        |      \n",
      "    |        |        |      \n",
      "    |        |     \u001b[1m ===== \u001b[0m   \n",
      "\u001b[4m \u001b[1m  ===  \u001b[0m\u001b[4m \u001b[4m \u001b[1m   =   \u001b[0m\u001b[4m \u001b[4m \u001b[1m=======\u001b[0m\u001b[4m \u001b[4m \u001b[4m \u001b[0m \n",
      "\n",
      "    |        |        |      \n",
      "    |        |     \u001b[1m  ===  \u001b[0m   \n",
      "    |        |     \u001b[1m ===== \u001b[0m   \n",
      "\u001b[4m    |   \u001b[4m \u001b[4m \u001b[1m   =   \u001b[0m\u001b[4m \u001b[4m \u001b[1m=======\u001b[0m\u001b[4m \u001b[4m \u001b[4m \u001b[0m \n",
      "\n",
      "    |        |     \u001b[1m   =   \u001b[0m   \n",
      "    |        |     \u001b[1m  ===  \u001b[0m   \n",
      "    |        |     \u001b[1m ===== \u001b[0m   \n",
      "\u001b[4m    |   \u001b[4m \u001b[4m    |   \u001b[4m \u001b[4m \u001b[1m=======\u001b[0m\u001b[4m \u001b[4m \u001b[4m \u001b[0m \n",
      "\n"
     ]
    }
   ],
   "source": [
    "#hanoi(4)\n",
    "Q, stepsToGoal4 = trainQ(300, 0.75, 0.99, validMoves, makeMove, 4)\n",
    "print(len(Q), stepsToGoal4)\n",
    "path = testQ(Q, 20, validMoves, makeMove, 4)\n",
    "pathPrint(path)"
   ]
  },
  {
   "cell_type": "markdown",
   "metadata": {},
   "source": [
    "5 disc puzzle"
   ]
  },
  {
   "cell_type": "code",
   "execution_count": 23,
   "metadata": {
    "scrolled": false
   },
   "outputs": [
    {
     "name": "stdout",
     "output_type": "stream",
     "text": [
      "724 [1724, 4935, 2076, 8100, 7107, 4479, 1913, 1800, 734, 3286, 1190, 1824, 600, 642, 131, 533, 633, 701, 368, 647, 847, 397, 506, 373, 1168, 728, 1324, 324, 424, 353, 351, 714, 555, 458, 531, 492, 268, 356, 431, 808, 259, 335, 588, 452, 72, 156, 299, 239, 384, 134, 381, 129, 382, 121, 138, 152, 225, 197, 289, 108, 364, 282, 118, 756, 89, 137, 106, 215, 145, 283, 171, 130, 286, 100, 120, 176, 99, 62, 189, 88, 469, 76, 93, 398, 152, 101, 338, 133, 117, 183, 81, 90, 105, 100, 106, 125, 148, 89, 143, 236, 111, 76, 205, 236, 43, 160, 81, 174, 75, 127, 266, 76, 110, 119, 64, 105, 93, 172, 67, 143, 96, 52, 168, 140, 170, 65, 92, 343, 178, 102, 53, 64, 124, 44, 368, 277, 66, 76, 320, 52, 46, 167, 85, 70, 242, 85, 161, 41, 77, 62, 65, 103, 255, 82, 167, 49, 82, 58, 59, 300, 123, 67, 149, 61, 61, 58, 82, 79, 159, 58, 60, 229, 45, 268, 59, 235, 79, 261, 39, 227, 144, 68, 250, 45, 63, 44, 67, 296, 99, 41, 122, 53, 51, 119, 262, 41, 125, 41, 55, 162, 42, 40, 119, 72, 45, 150, 53, 57, 136, 39, 34, 72, 142, 84, 41, 374, 91, 128, 31, 44, 37, 42, 38, 40, 40, 38, 115, 163, 44, 40, 42, 82, 43, 72, 199, 38, 36, 257, 35, 40, 97, 88, 49, 33, 44, 37, 34, 84, 231, 36, 35, 48, 39, 103, 36, 83, 38, 112, 41, 56, 32, 37, 31, 41, 50, 226, 39, 106, 33, 33, 36, 78, 40, 149, 38, 52, 33, 31, 37, 32, 42, 33, 71, 32, 31, 99, 37, 49, 32, 31, 330, 31, 31, 33, 31, 35, 34, 33, 31, 31]\n",
      "solution length: 32\n",
      " \u001b[1m    =    \u001b[0m      |          |       \n",
      " \u001b[1m   ===   \u001b[0m      |          |       \n",
      " \u001b[1m  =====  \u001b[0m      |          |       \n",
      " \u001b[1m ======= \u001b[0m      |          |       \n",
      "\u001b[4m \u001b[1m=========\u001b[0m\u001b[4m \u001b[4m     |    \u001b[4m \u001b[4m     |    \u001b[4m \u001b[4m \u001b[4m \u001b[0m \n",
      "\n",
      "     |          |          |       \n",
      " \u001b[1m   ===   \u001b[0m      |          |       \n",
      " \u001b[1m  =====  \u001b[0m      |          |       \n",
      " \u001b[1m ======= \u001b[0m      |          |       \n",
      "\u001b[4m \u001b[1m=========\u001b[0m\u001b[4m \u001b[4m     |    \u001b[4m \u001b[4m \u001b[1m    =    \u001b[0m\u001b[4m \u001b[4m \u001b[4m \u001b[0m \n",
      "\n",
      "     |          |          |       \n",
      "     |          |          |       \n",
      " \u001b[1m  =====  \u001b[0m      |          |       \n",
      " \u001b[1m ======= \u001b[0m      |          |       \n",
      "\u001b[4m \u001b[1m=========\u001b[0m\u001b[4m \u001b[4m \u001b[1m   ===   \u001b[0m\u001b[4m \u001b[4m \u001b[1m    =    \u001b[0m\u001b[4m \u001b[4m \u001b[4m \u001b[0m \n",
      "\n",
      "     |          |          |       \n",
      "     |          |          |       \n",
      " \u001b[1m  =====  \u001b[0m      |          |       \n",
      " \u001b[1m ======= \u001b[0m  \u001b[1m    =    \u001b[0m      |       \n",
      "\u001b[4m \u001b[1m=========\u001b[0m\u001b[4m \u001b[4m \u001b[1m   ===   \u001b[0m\u001b[4m \u001b[4m     |    \u001b[4m \u001b[4m \u001b[4m \u001b[0m \n",
      "\n",
      "     |          |          |       \n",
      "     |          |          |       \n",
      "     |          |          |       \n",
      " \u001b[1m ======= \u001b[0m  \u001b[1m    =    \u001b[0m      |       \n",
      "\u001b[4m \u001b[1m=========\u001b[0m\u001b[4m \u001b[4m \u001b[1m   ===   \u001b[0m\u001b[4m \u001b[4m \u001b[1m  =====  \u001b[0m\u001b[4m \u001b[4m \u001b[4m \u001b[0m \n",
      "\n",
      "     |          |          |       \n",
      "     |          |          |       \n",
      " \u001b[1m    =    \u001b[0m      |          |       \n",
      " \u001b[1m ======= \u001b[0m      |          |       \n",
      "\u001b[4m \u001b[1m=========\u001b[0m\u001b[4m \u001b[4m \u001b[1m   ===   \u001b[0m\u001b[4m \u001b[4m \u001b[1m  =====  \u001b[0m\u001b[4m \u001b[4m \u001b[4m \u001b[0m \n",
      "\n",
      "     |          |          |       \n",
      "     |          |          |       \n",
      " \u001b[1m    =    \u001b[0m      |          |       \n",
      " \u001b[1m ======= \u001b[0m      |      \u001b[1m   ===   \u001b[0m   \n",
      "\u001b[4m \u001b[1m=========\u001b[0m\u001b[4m \u001b[4m     |    \u001b[4m \u001b[4m \u001b[1m  =====  \u001b[0m\u001b[4m \u001b[4m \u001b[4m \u001b[0m \n",
      "\n",
      "     |          |          |       \n",
      "     |          |          |       \n",
      "     |          |      \u001b[1m    =    \u001b[0m   \n",
      " \u001b[1m ======= \u001b[0m      |      \u001b[1m   ===   \u001b[0m   \n",
      "\u001b[4m \u001b[1m=========\u001b[0m\u001b[4m \u001b[4m     |    \u001b[4m \u001b[4m \u001b[1m  =====  \u001b[0m\u001b[4m \u001b[4m \u001b[4m \u001b[0m \n",
      "\n",
      "     |          |          |       \n",
      "     |          |          |       \n",
      "     |          |      \u001b[1m    =    \u001b[0m   \n",
      "     |          |      \u001b[1m   ===   \u001b[0m   \n",
      "\u001b[4m \u001b[1m=========\u001b[0m\u001b[4m \u001b[4m \u001b[1m ======= \u001b[0m\u001b[4m \u001b[4m \u001b[1m  =====  \u001b[0m\u001b[4m \u001b[4m \u001b[4m \u001b[0m \n",
      "\n",
      "     |          |          |       \n",
      "     |          |          |       \n",
      "     |          |          |       \n",
      "     |      \u001b[1m    =    \u001b[0m  \u001b[1m   ===   \u001b[0m   \n",
      "\u001b[4m \u001b[1m=========\u001b[0m\u001b[4m \u001b[4m \u001b[1m ======= \u001b[0m\u001b[4m \u001b[4m \u001b[1m  =====  \u001b[0m\u001b[4m \u001b[4m \u001b[4m \u001b[0m \n",
      "\n",
      "     |          |          |       \n",
      "     |          |          |       \n",
      "     |          |          |       \n",
      " \u001b[1m   ===   \u001b[0m  \u001b[1m    =    \u001b[0m      |       \n",
      "\u001b[4m \u001b[1m=========\u001b[0m\u001b[4m \u001b[4m \u001b[1m ======= \u001b[0m\u001b[4m \u001b[4m \u001b[1m  =====  \u001b[0m\u001b[4m \u001b[4m \u001b[4m \u001b[0m \n",
      "\n",
      "     |          |          |       \n",
      "     |          |          |       \n",
      " \u001b[1m    =    \u001b[0m      |          |       \n",
      " \u001b[1m   ===   \u001b[0m      |          |       \n",
      "\u001b[4m \u001b[1m=========\u001b[0m\u001b[4m \u001b[4m \u001b[1m ======= \u001b[0m\u001b[4m \u001b[4m \u001b[1m  =====  \u001b[0m\u001b[4m \u001b[4m \u001b[4m \u001b[0m \n",
      "\n",
      "     |          |          |       \n",
      "     |          |          |       \n",
      " \u001b[1m    =    \u001b[0m      |          |       \n",
      " \u001b[1m   ===   \u001b[0m  \u001b[1m  =====  \u001b[0m      |       \n",
      "\u001b[4m \u001b[1m=========\u001b[0m\u001b[4m \u001b[4m \u001b[1m ======= \u001b[0m\u001b[4m \u001b[4m     |    \u001b[4m \u001b[4m \u001b[4m \u001b[0m \n",
      "\n",
      "     |          |          |       \n",
      "     |          |          |       \n",
      "     |          |          |       \n",
      " \u001b[1m   ===   \u001b[0m  \u001b[1m  =====  \u001b[0m      |       \n",
      "\u001b[4m \u001b[1m=========\u001b[0m\u001b[4m \u001b[4m \u001b[1m ======= \u001b[0m\u001b[4m \u001b[4m \u001b[1m    =    \u001b[0m\u001b[4m \u001b[4m \u001b[4m \u001b[0m \n",
      "\n",
      "     |          |          |       \n",
      "     |          |          |       \n",
      "     |      \u001b[1m   ===   \u001b[0m      |       \n",
      "     |      \u001b[1m  =====  \u001b[0m      |       \n",
      "\u001b[4m \u001b[1m=========\u001b[0m\u001b[4m \u001b[4m \u001b[1m ======= \u001b[0m\u001b[4m \u001b[4m \u001b[1m    =    \u001b[0m\u001b[4m \u001b[4m \u001b[4m \u001b[0m \n",
      "\n",
      "     |          |          |       \n",
      "     |      \u001b[1m    =    \u001b[0m      |       \n",
      "     |      \u001b[1m   ===   \u001b[0m      |       \n",
      "     |      \u001b[1m  =====  \u001b[0m      |       \n",
      "\u001b[4m \u001b[1m=========\u001b[0m\u001b[4m \u001b[4m \u001b[1m ======= \u001b[0m\u001b[4m \u001b[4m     |    \u001b[4m \u001b[4m \u001b[4m \u001b[0m \n",
      "\n",
      "     |          |          |       \n",
      "     |      \u001b[1m    =    \u001b[0m      |       \n",
      "     |      \u001b[1m   ===   \u001b[0m      |       \n",
      "     |      \u001b[1m  =====  \u001b[0m      |       \n",
      "\u001b[4m     |    \u001b[4m \u001b[4m \u001b[1m ======= \u001b[0m\u001b[4m \u001b[4m \u001b[1m=========\u001b[0m\u001b[4m \u001b[4m \u001b[4m \u001b[0m \n",
      "\n",
      "     |          |          |       \n",
      "     |          |          |       \n",
      "     |      \u001b[1m   ===   \u001b[0m      |       \n",
      "     |      \u001b[1m  =====  \u001b[0m      |       \n",
      "\u001b[4m \u001b[1m    =    \u001b[0m\u001b[4m \u001b[4m \u001b[1m ======= \u001b[0m\u001b[4m \u001b[4m \u001b[1m=========\u001b[0m\u001b[4m \u001b[4m \u001b[4m \u001b[0m \n",
      "\n",
      "     |          |          |       \n",
      "     |          |          |       \n",
      "     |          |          |       \n",
      "     |      \u001b[1m  =====  \u001b[0m  \u001b[1m   ===   \u001b[0m   \n",
      "\u001b[4m \u001b[1m    =    \u001b[0m\u001b[4m \u001b[4m \u001b[1m ======= \u001b[0m\u001b[4m \u001b[4m \u001b[1m=========\u001b[0m\u001b[4m \u001b[4m \u001b[4m \u001b[0m \n",
      "\n",
      "     |          |          |       \n",
      "     |          |          |       \n",
      "     |          |      \u001b[1m    =    \u001b[0m   \n",
      "     |      \u001b[1m  =====  \u001b[0m  \u001b[1m   ===   \u001b[0m   \n",
      "\u001b[4m     |    \u001b[4m \u001b[4m \u001b[1m ======= \u001b[0m\u001b[4m \u001b[4m \u001b[1m=========\u001b[0m\u001b[4m \u001b[4m \u001b[4m \u001b[0m \n",
      "\n",
      "     |          |          |       \n",
      "     |          |          |       \n",
      "     |          |      \u001b[1m    =    \u001b[0m   \n",
      "     |          |      \u001b[1m   ===   \u001b[0m   \n",
      "\u001b[4m \u001b[1m  =====  \u001b[0m\u001b[4m \u001b[4m \u001b[1m ======= \u001b[0m\u001b[4m \u001b[4m \u001b[1m=========\u001b[0m\u001b[4m \u001b[4m \u001b[4m \u001b[0m \n",
      "\n",
      "     |          |          |       \n",
      "     |          |          |       \n",
      "     |          |          |       \n",
      "     |      \u001b[1m    =    \u001b[0m  \u001b[1m   ===   \u001b[0m   \n",
      "\u001b[4m \u001b[1m  =====  \u001b[0m\u001b[4m \u001b[4m \u001b[1m ======= \u001b[0m\u001b[4m \u001b[4m \u001b[1m=========\u001b[0m\u001b[4m \u001b[4m \u001b[4m \u001b[0m \n",
      "\n",
      "     |          |          |       \n",
      "     |          |          |       \n",
      "     |          |          |       \n",
      " \u001b[1m   ===   \u001b[0m  \u001b[1m    =    \u001b[0m      |       \n",
      "\u001b[4m \u001b[1m  =====  \u001b[0m\u001b[4m \u001b[4m \u001b[1m ======= \u001b[0m\u001b[4m \u001b[4m \u001b[1m=========\u001b[0m\u001b[4m \u001b[4m \u001b[4m \u001b[0m \n",
      "\n",
      "     |          |          |       \n",
      "     |          |          |       \n",
      " \u001b[1m    =    \u001b[0m      |          |       \n",
      " \u001b[1m   ===   \u001b[0m      |          |       \n",
      "\u001b[4m \u001b[1m  =====  \u001b[0m\u001b[4m \u001b[4m \u001b[1m ======= \u001b[0m\u001b[4m \u001b[4m \u001b[1m=========\u001b[0m\u001b[4m \u001b[4m \u001b[4m \u001b[0m \n",
      "\n",
      "     |          |          |       \n",
      "     |          |          |       \n",
      " \u001b[1m    =    \u001b[0m      |          |       \n",
      " \u001b[1m   ===   \u001b[0m      |      \u001b[1m ======= \u001b[0m   \n",
      "\u001b[4m \u001b[1m  =====  \u001b[0m\u001b[4m \u001b[4m     |    \u001b[4m \u001b[4m \u001b[1m=========\u001b[0m\u001b[4m \u001b[4m \u001b[4m \u001b[0m \n",
      "\n",
      "     |          |          |       \n",
      "     |          |          |       \n",
      "     |          |      \u001b[1m    =    \u001b[0m   \n",
      " \u001b[1m   ===   \u001b[0m      |      \u001b[1m ======= \u001b[0m   \n",
      "\u001b[4m \u001b[1m  =====  \u001b[0m\u001b[4m \u001b[4m     |    \u001b[4m \u001b[4m \u001b[1m=========\u001b[0m\u001b[4m \u001b[4m \u001b[4m \u001b[0m \n",
      "\n",
      "     |          |          |       \n",
      "     |          |          |       \n",
      "     |          |      \u001b[1m    =    \u001b[0m   \n",
      "     |          |      \u001b[1m ======= \u001b[0m   \n",
      "\u001b[4m \u001b[1m  =====  \u001b[0m\u001b[4m \u001b[4m \u001b[1m   ===   \u001b[0m\u001b[4m \u001b[4m \u001b[1m=========\u001b[0m\u001b[4m \u001b[4m \u001b[4m \u001b[0m \n",
      "\n",
      "     |          |          |       \n",
      "     |          |          |       \n",
      "     |          |          |       \n",
      "     |      \u001b[1m    =    \u001b[0m  \u001b[1m ======= \u001b[0m   \n",
      "\u001b[4m \u001b[1m  =====  \u001b[0m\u001b[4m \u001b[4m \u001b[1m   ===   \u001b[0m\u001b[4m \u001b[4m \u001b[1m=========\u001b[0m\u001b[4m \u001b[4m \u001b[4m \u001b[0m \n",
      "\n",
      "     |          |          |       \n",
      "     |          |          |       \n",
      "     |          |      \u001b[1m  =====  \u001b[0m   \n",
      "     |      \u001b[1m    =    \u001b[0m  \u001b[1m ======= \u001b[0m   \n",
      "\u001b[4m     |    \u001b[4m \u001b[4m \u001b[1m   ===   \u001b[0m\u001b[4m \u001b[4m \u001b[1m=========\u001b[0m\u001b[4m \u001b[4m \u001b[4m \u001b[0m \n",
      "\n",
      "     |          |          |       \n",
      "     |          |          |       \n",
      "     |          |      \u001b[1m  =====  \u001b[0m   \n",
      "     |          |      \u001b[1m ======= \u001b[0m   \n",
      "\u001b[4m \u001b[1m    =    \u001b[0m\u001b[4m \u001b[4m \u001b[1m   ===   \u001b[0m\u001b[4m \u001b[4m \u001b[1m=========\u001b[0m\u001b[4m \u001b[4m \u001b[4m \u001b[0m \n",
      "\n",
      "     |          |          |       \n",
      "     |          |      \u001b[1m   ===   \u001b[0m   \n",
      "     |          |      \u001b[1m  =====  \u001b[0m   \n",
      "     |          |      \u001b[1m ======= \u001b[0m   \n",
      "\u001b[4m \u001b[1m    =    \u001b[0m\u001b[4m \u001b[4m     |    \u001b[4m \u001b[4m \u001b[1m=========\u001b[0m\u001b[4m \u001b[4m \u001b[4m \u001b[0m \n",
      "\n",
      "     |          |      \u001b[1m    =    \u001b[0m   \n",
      "     |          |      \u001b[1m   ===   \u001b[0m   \n",
      "     |          |      \u001b[1m  =====  \u001b[0m   \n",
      "     |          |      \u001b[1m ======= \u001b[0m   \n",
      "\u001b[4m     |    \u001b[4m \u001b[4m     |    \u001b[4m \u001b[4m \u001b[1m=========\u001b[0m\u001b[4m \u001b[4m \u001b[4m \u001b[0m \n",
      "\n"
     ]
    }
   ],
   "source": [
    "Q, stepsToGoal5 = trainQ(300, 0.75, 0.99, validMoves, makeMove, 5)\n",
    "print(len(Q), stepsToGoal5)\n",
    "path = testQ(Q, 32, validMoves, makeMove, 5)\n",
    "pathPrint(path)"
   ]
  },
  {
   "cell_type": "code",
   "execution_count": 24,
   "metadata": {},
   "outputs": [
    {
     "data": {
      "image/png": "[encoded data removed]",
      "text/plain": [
       "<matplotlib.figure.Figure at 0xd0381eedd8>"
      ]
     },
     "metadata": {},
     "output_type": "display_data"
    }
   ],
   "source": [
    "import matplotlib.pyplot as plot\n",
    "%matplotlib inline\n",
    "plot.figure(figsize=(16,11))\n",
    "plot.plot(stepsToGoal5, '-');\n",
    "plot.plot(stepsToGoal4, '-');\n",
    "plot.plot(stepsToGoal, '-');\n",
    "plot.ylabel('Steps to Puzzle Solution')\n",
    "plot.xlabel('Iteration #'); #; supresses printing unwanted nonsense"
   ]
  },
  {
   "cell_type": "code",
   "execution_count": 25,
   "metadata": {},
   "outputs": [
    {
     "name": "stdout",
     "output_type": "stream",
     "text": [
      "n: 6 , i*2-1: 1 , i: 1\n",
      "n: 6 , i*2-1: 3 , i: 2\n",
      "n: 6 , i*2-1: 5 , i: 3\n",
      "n: 6 , i*2-1: 7 , i: 4\n",
      "n: 6 , i*2-1: 9 , i: 5\n",
      "n: 6 , i*2-1: 11 , i: 6\n"
     ]
    }
   ],
   "source": [
    "n = 6\n",
    "for i in range(1, n+1):\n",
    "    #print('len(s):', len(s), ', len(s)//2:', len(s)//2, ', i:', i, ', len//2+i:', len(s)//2+i)\n",
    "    print('n:', n, ', i*2-1:', i*2-1, ', i:', i)    "
   ]
  },
  {
   "cell_type": "code",
   "execution_count": 26,
   "metadata": {},
   "outputs": [
    {
     "name": "stdout",
     "output_type": "stream",
     "text": [
      "[[1, 2, 3, 4, 5, 6], [], []]\n",
      "[[], [], [1, 2, 3, 4, 5, 6]]\n"
     ]
    }
   ],
   "source": [
    "s, g = makePuzzle(6)\n",
    "print(s)\n",
    "print(g)"
   ]
  },
  {
   "cell_type": "code",
   "execution_count": 27,
   "metadata": {},
   "outputs": [
    {
     "data": {
      "text/plain": [
       "5"
      ]
     },
     "execution_count": 27,
     "metadata": {},
     "output_type": "execute_result"
    }
   ],
   "source": [
    "check = [[4, 5], [1], [2, 3]]\n",
    "findN(check)"
   ]
  },
  {
   "cell_type": "code",
   "execution_count": 28,
   "metadata": {},
   "outputs": [
    {
     "name": "stdout",
     "output_type": "stream",
     "text": [
      " \u001b[1m     =     \u001b[0m       |            |        \n",
      " \u001b[1m    ===    \u001b[0m       |            |        \n",
      " \u001b[1m   =====   \u001b[0m       |            |        \n",
      " \u001b[1m  =======  \u001b[0m       |            |        \n",
      " \u001b[1m ========= \u001b[0m       |            |        \n",
      "\u001b[4m \u001b[1m===========\u001b[0m\u001b[4m \u001b[4m      |     \u001b[4m \u001b[4m      |     \u001b[4m \u001b[4m \u001b[4m \u001b[0m \n",
      "\n",
      "      |            |       \u001b[1m     =     \u001b[0m   \n",
      "      |            |       \u001b[1m    ===    \u001b[0m   \n",
      "      |            |       \u001b[1m   =====   \u001b[0m   \n",
      "      |            |       \u001b[1m  =======  \u001b[0m   \n",
      "      |            |       \u001b[1m ========= \u001b[0m   \n",
      "\u001b[4m      |     \u001b[4m \u001b[4m      |     \u001b[4m \u001b[4m \u001b[1m===========\u001b[0m\u001b[4m \u001b[4m \u001b[4m \u001b[0m \n",
      "\n"
     ]
    }
   ],
   "source": [
    "printState(s)\n",
    "printState(g)"
   ]
  },
  {
   "cell_type": "code",
   "execution_count": 29,
   "metadata": {},
   "outputs": [
    {
     "name": "stdout",
     "output_type": "stream",
     "text": [
      "   |      |      |   \n",
      "   |      |      |   \n",
      "\u001b[4m   |  \u001b[4m \u001b[4m   |  \u001b[4m \u001b[4m   |  \u001b[4m \u001b[0m \n",
      "\n",
      "   |      |      |   \n",
      "   |      |      |   \n",
      "\u001b[4m \u001b[1m  =  \u001b[0m\u001b[4m \u001b[4m   |  \u001b[4m \u001b[4m   |  \u001b[4m \u001b[0m \n",
      "\n",
      "   |      |      |   \n",
      " \u001b[1m  =  \u001b[0m    |      |   \n",
      "\u001b[4m \u001b[1m === \u001b[0m\u001b[4m \u001b[4m   |  \u001b[4m \u001b[4m   |  \u001b[4m \u001b[0m \n",
      "\n",
      " \u001b[1m  =  \u001b[0m    |      |   \n",
      " \u001b[1m === \u001b[0m    |      |   \n",
      "\u001b[4m \u001b[1m=====\u001b[0m\u001b[4m \u001b[4m   |  \u001b[4m \u001b[4m   |  \u001b[4m \u001b[0m \n",
      "\n",
      " \u001b[1m   =   \u001b[0m     |        |      \n",
      " \u001b[1m  ===  \u001b[0m     |        |      \n",
      " \u001b[1m ===== \u001b[0m     |        |      \n",
      "\u001b[4m \u001b[1m=======\u001b[0m\u001b[4m \u001b[4m    |   \u001b[4m \u001b[4m    |   \u001b[4m \u001b[4m \u001b[4m \u001b[0m \n",
      "\n",
      " \u001b[1m    =    \u001b[0m      |          |       \n",
      " \u001b[1m   ===   \u001b[0m      |          |       \n",
      " \u001b[1m  =====  \u001b[0m      |          |       \n",
      " \u001b[1m ======= \u001b[0m      |          |       \n",
      "\u001b[4m \u001b[1m=========\u001b[0m\u001b[4m \u001b[4m     |    \u001b[4m \u001b[4m     |    \u001b[4m \u001b[4m \u001b[4m \u001b[0m \n",
      "\n"
     ]
    }
   ],
   "source": [
    "for i in range(6):\n",
    "    s, g = makePuzzle(i)\n",
    "    printState(s)"
   ]
  },
  {
   "cell_type": "code",
   "execution_count": 30,
   "metadata": {},
   "outputs": [
    {
     "name": "stdout",
     "output_type": "stream",
     "text": [
      "[1, 2, 3] [1, 2, 3] [1, 2]\n"
     ]
    }
   ],
   "source": [
    "a = [1,2]\n",
    "b = a\n",
    "c = [1,2]\n",
    "b.append(3)\n",
    "print(a, b, c)"
   ]
  },
  {
   "cell_type": "code",
   "execution_count": 31,
   "metadata": {},
   "outputs": [
    {
     "name": "stdout",
     "output_type": "stream",
     "text": [
      "[]\n",
      "[1, []]\n"
     ]
    }
   ],
   "source": [
    "moves = [1]\n",
    "thing = []\n",
    "#thing.extend(moves)\n",
    "print(thing)\n",
    "moves.append(thing)\n",
    "print(moves)"
   ]
  },
  {
   "cell_type": "code",
   "execution_count": 32,
   "metadata": {},
   "outputs": [
    {
     "data": {
      "text/plain": [
       "3"
      ]
     },
     "execution_count": 32,
     "metadata": {},
     "output_type": "execute_result"
    }
   ],
   "source": [
    "state = [ [1, 2, 3], [], [] ]\n",
    "#state = [  [2, 3], [1], [] ]\n",
    "#state = [  [3], [1], [2] ]\n",
    "#state = [  [3], [], [1, 2] ]\n",
    "#state = [ [], [], [1, 2, 3] ]\n",
    "len(state)"
   ]
  },
  {
   "cell_type": "code",
   "execution_count": 33,
   "metadata": {},
   "outputs": [
    {
     "name": "stdout",
     "output_type": "stream",
     "text": [
      "[[1, 2], [1, 3]]\n"
     ]
    }
   ],
   "source": [
    "print(validMoves(state))"
   ]
  },
  {
   "cell_type": "code",
   "execution_count": 34,
   "metadata": {
    "scrolled": true
   },
   "outputs": [
    {
     "name": "stdout",
     "output_type": "stream",
     "text": [
      " \u001b[1m  =  \u001b[0m    |      |   \n",
      " \u001b[1m === \u001b[0m    |      |   \n",
      "\u001b[4m \u001b[1m=====\u001b[0m\u001b[4m \u001b[4m   |  \u001b[4m \u001b[4m   |  \u001b[4m \u001b[0m \n",
      "\n"
     ]
    }
   ],
   "source": [
    "printState(state)\n",
    "#print(puzzle.stateList())"
   ]
  },
  {
   "cell_type": "code",
   "execution_count": 35,
   "metadata": {},
   "outputs": [
    {
     "name": "stdout",
     "output_type": "stream",
     "text": [
      "Move  [2, 3]  is not a valid move from state  [[1, 2, 3], [], []]\n",
      " \u001b[1m  =  \u001b[0m    |      |   \n",
      " \u001b[1m === \u001b[0m    |      |   \n",
      "\u001b[4m \u001b[1m=====\u001b[0m\u001b[4m \u001b[4m   |  \u001b[4m \u001b[4m   |  \u001b[4m \u001b[0m \n",
      "\n"
     ]
    }
   ],
   "source": [
    "thing = makeMove(state, [2,3])\n",
    "printState(thing)"
   ]
  },
  {
   "cell_type": "code",
   "execution_count": 36,
   "metadata": {},
   "outputs": [
    {
     "name": "stdout",
     "output_type": "stream",
     "text": [
      "(((2, 3), (1,), ()), (1, 2))\n"
     ]
    }
   ],
   "source": [
    "state = [  [2, 3], [1], [] ]\n",
    "move = [1,2]\n",
    "print(stateMoveTuple(state, move))\n",
    "#(((1, 2, 3), (), ()), (1, 2))"
   ]
  },
  {
   "cell_type": "code",
   "execution_count": 37,
   "metadata": {},
   "outputs": [
    {
     "data": {
      "text/plain": [
       "[[], [1], [2, 3]]"
      ]
     },
     "execution_count": 37,
     "metadata": {},
     "output_type": "execute_result"
    }
   ],
   "source": [
    "makeMove([[], [], [1, 2, 3]], [3, 2])"
   ]
  },
  {
   "cell_type": "code",
   "execution_count": 38,
   "metadata": {},
   "outputs": [
    {
     "data": {
      "text/plain": [
       "(((1, 2, 3), (), ()), (1, 3))"
      ]
     },
     "execution_count": 38,
     "metadata": {},
     "output_type": "execute_result"
    }
   ],
   "source": [
    "stateMoveTuple([ [1, 2, 3], [], [] ], [1,3])"
   ]
  },
  {
   "cell_type": "markdown",
   "metadata": {},
   "source": [
    "Attempting to find numbers that have a high chance of full exploration"
   ]
  },
  {
   "cell_type": "code",
   "execution_count": 39,
   "metadata": {
    "collapsed": true
   },
   "outputs": [],
   "source": [
    "def checkArgs(m, n, rho, decay, val, make):\n",
    "    for i in range(m):\n",
    "        Q, stepsToGoal = trainQ(n, rho, decay, val, make)\n",
    "        if len(Q) < 76:\n",
    "            #print('INCOMPLETE!:', len(Q), ', i:', i)\n",
    "            return False\n",
    "    #print('exhaustive exploration!')\n",
    "    return True\n",
    "#checkArgs(25, .75, .99, validMoves, makeMove)    #good!\n",
    "#checkArgs(10, .05, .95, validMoves, makeMove)    #bad!\n",
    "#checkArgs(25, .05, .975, validMoves, makeMove)    #iffy!\n",
    "def successRate(n, m, nreps, rho, decay):\n",
    "    print(n*m*nreps, 'iterations')\n",
    "    num = 0\n",
    "    denom = 0\n",
    "    for i in range(1, n+1):\n",
    "        if checkArgs(m, nreps, rho, decay, validMoves, makeMove):\n",
    "            #print('nope')\n",
    "            num += 1\n",
    "        denom += 1\n",
    "        print(num/denom, end=', ')\n",
    "        print() if denom%10 == 0 else ''        \n",
    "    return num/denom"
   ]
  },
  {
   "cell_type": "code",
   "execution_count": 772,
   "metadata": {},
   "outputs": [
    {
     "name": "stdout",
     "output_type": "stream",
     "text": [
      "75000 iterations\n",
      "1.0, 1.0, 1.0, 1.0, 1.0, 1.0, 1.0, 1.0, 1.0, 1.0, \n",
      "1.0, 1.0, 1.0, 1.0, 1.0, 1.0, 1.0, 1.0, 1.0, 1.0, \n",
      "1.0, 1.0, 1.0, 1.0, 1.0, 1.0, 1.0, 1.0, 1.0, 1.0, \n",
      "1.0, 1.0, 1.0, 1.0, 1.0, 1.0, 1.0, 1.0, 1.0, 1.0, \n",
      "1.0, 1.0, 1.0, 1.0, 1.0, 1.0, 1.0, 1.0, 1.0, 1.0, \n",
      "1.0, 1.0, 1.0, 1.0, 1.0, 1.0, 1.0, 1.0, 1.0, 1.0, \n",
      "1.0, 1.0, 1.0, 1.0, 1.0, 1.0, 1.0, 1.0, 1.0, 1.0, \n",
      "1.0, 1.0, 1.0, 1.0, 1.0, 1.0, 1.0, 1.0, 1.0, 1.0, \n",
      "1.0, 1.0, 1.0, 1.0, 1.0, 1.0, 1.0, 1.0, 1.0, 1.0, \n",
      "1.0, 1.0, 1.0, 1.0, 1.0, 1.0, 1.0, 1.0, 1.0, 1.0, \n"
     ]
    },
    {
     "data": {
      "text/plain": [
       "1.0"
      ]
     },
     "execution_count": 772,
     "metadata": {},
     "output_type": "execute_result"
    }
   ],
   "source": [
    "#successRate(50)   #68%, .975?\n",
    "#successRate(10)   #80%\n",
    "#successRate(10)   #40%\n",
    "#successRate(10)   #60%\n",
    "#successRate(50)   #90%\n",
    "#successRate(50)   #80%\n",
    "#successRate(50)   #96% - 25, .075, .99\n",
    "#successRate(50)   #96% - 25, .075, .99\n",
    "#successRate(50)   #96% - 25, .075, .99\n",
    "#successRate(50)   #100% - 50, .075, .99\n",
    "#successRate(50)   #100% - 35, .075, .99\n",
    "#successRate(50, 25, .075, .99)   #96%\n",
    "#successRate(50, 30, .075, .99)   #96%\n",
    "#successRate(50, 35, .075, .99)   #100%\n",
    "#successRate(50, 35, .075, .99)   #98%\n",
    "#successRate(50, 40, .075, .99)   #98%\n",
    "#successRate(50, 45, .075, .99)   #100%   56250\n",
    "#successRate(100, 10, 45, .075, .99)   #100%   45000\n",
    "#successRate(100, 12, 45, .075, .99)   #100%   54000\n",
    "#successRate(100, 12, 45, .075, .99)   #100%   45, .075, .99 seems solid\n",
    "#successRate(100, 12, 25, .1, .99)   #100%   \n",
    "#successRate(100, 30, 25, .1, .99)   #96%   \n",
    "#successRate(100, 25, 30, .1, .99)   #98%   \n",
    "#successRate(100, 25, 30, .065, .99)   #100%    a\n",
    "#successRate(100, 25, 30, .06, .99)   #99%   \n",
    "#successRate(100, 25, 30, .065, .99)   #100%    b\n",
    "#successRate(100, 25, 30, .065, .99)   #100%    c, a+b+c = 225000 also probably solid\n",
    "#these are enough to have filled Q's keys"
   ]
  },
  {
   "cell_type": "code",
   "execution_count": 36,
   "metadata": {},
   "outputs": [
    {
     "name": "stdout",
     "output_type": "stream",
     "text": [
      "1 2 3 4 5 6 7 8 9 0 \n",
      "1 2 3 4 5 6 7 8 9 0 \n",
      "1 2 3 4 5 6 7 8 9 0 \n",
      "1 2 3 4 5 6 7 8 9 0 \n",
      "1 2 3 4 5 6 7 8 9 0 \n",
      "1 2 3 4 5 6 7 8 9 0 \n",
      "1 2 3 4 5 6 7 8 9 0 \n",
      "1 2 3 4 5 6 7 8 9 0 \n",
      "1 2 3 4 5 6 7 8 9 0 \n",
      "1 2 3 4 5 6 7 8 9 0 \n"
     ]
    }
   ],
   "source": [
    "num = 100\n",
    "for i in range(1, num+1):\n",
    "    #print(i, end=', ')\n",
    "    print(i%(num//10), end=' ')\n",
    "    '' if not i%10 == 0 else print()"
   ]
  },
  {
   "cell_type": "code",
   "execution_count": 37,
   "metadata": {
    "collapsed": true
   },
   "outputs": [],
   "source": [
    "empty = []\n",
    "#empty = {0: 'things'}\n",
    "#both behave correctly - if nothing in it, acts as false/zero\n",
    "if empty:\n",
    "    print('yes')\n",
    "for i in range(len(empty)):\n",
    "    print('stuff')"
   ]
  },
  {
   "cell_type": "code",
   "execution_count": 45,
   "metadata": {},
   "outputs": [
    {
     "name": "stdout",
     "output_type": "stream",
     "text": [
      " \u001b[1m  =  \u001b[0m    |      |   \n",
      " \u001b[1m === \u001b[0m    |      |   \n",
      "\u001b[4m \u001b[1m=====\u001b[0m\u001b[4m \u001b[4m   |  \u001b[4m \u001b[4m   |  \u001b[4m \u001b[0m \n",
      "\n"
     ]
    }
   ],
   "source": [
    "state = [[1, 2, 3], [], []]\n",
    "printState(state)"
   ]
  },
  {
   "cell_type": "code",
   "execution_count": 46,
   "metadata": {},
   "outputs": [
    {
     "data": {
      "text/plain": [
       "(((1, 2, 3), (), ()), (1, 2))"
      ]
     },
     "execution_count": 46,
     "metadata": {},
     "output_type": "execute_result"
    }
   ],
   "source": [
    "move =[1, 2]\n",
    "\n",
    "stateMoveTuple(state, move)"
   ]
  },
  {
   "cell_type": "code",
   "execution_count": 47,
   "metadata": {},
   "outputs": [
    {
     "data": {
      "text/plain": [
       "[[2, 3], [1], []]"
      ]
     },
     "execution_count": 47,
     "metadata": {},
     "output_type": "execute_result"
    }
   ],
   "source": [
    "newstate = makeMove(state, move)\n",
    "newstate"
   ]
  },
  {
   "cell_type": "code",
   "execution_count": 48,
   "metadata": {},
   "outputs": [
    {
     "name": "stdout",
     "output_type": "stream",
     "text": [
      "   |      |      |   \n",
      " \u001b[1m === \u001b[0m    |      |   \n",
      "\u001b[4m \u001b[1m=====\u001b[0m\u001b[4m \u001b[4m \u001b[1m  =  \u001b[0m\u001b[4m \u001b[4m   |  \u001b[4m \u001b[0m \n",
      "\n"
     ]
    }
   ],
   "source": [
    "printState(newstate)"
   ]
  },
  {
   "cell_type": "code",
   "execution_count": 49,
   "metadata": {
    "scrolled": false
   },
   "outputs": [
    {
     "data": {
      "text/plain": [
       "[294,\n",
       " 59,\n",
       " 46,\n",
       " 21,\n",
       " 95,\n",
       " 21,\n",
       " 11,\n",
       " 7,\n",
       " 64,\n",
       " 15,\n",
       " 15,\n",
       " 20,\n",
       " 12,\n",
       " 18,\n",
       " 8,\n",
       " 13,\n",
       " 37,\n",
       " 20,\n",
       " 17,\n",
       " 7,\n",
       " 32,\n",
       " 12,\n",
       " 7,\n",
       " 8,\n",
       " 20,\n",
       " 11,\n",
       " 10,\n",
       " 18,\n",
       " 27,\n",
       " 7,\n",
       " 8,\n",
       " 7,\n",
       " 11,\n",
       " 9,\n",
       " 7,\n",
       " 7,\n",
       " 8,\n",
       " 33,\n",
       " 7,\n",
       " 9,\n",
       " 9,\n",
       " 7,\n",
       " 8,\n",
       " 7,\n",
       " 7,\n",
       " 7,\n",
       " 7,\n",
       " 9,\n",
       " 7,\n",
       " 7,\n",
       " 7,\n",
       " 7,\n",
       " 7,\n",
       " 7,\n",
       " 7,\n",
       " 7,\n",
       " 7,\n",
       " 7,\n",
       " 7,\n",
       " 7,\n",
       " 7,\n",
       " 7,\n",
       " 7,\n",
       " 15,\n",
       " 7,\n",
       " 7,\n",
       " 7,\n",
       " 7,\n",
       " 7,\n",
       " 7,\n",
       " 7,\n",
       " 7,\n",
       " 7,\n",
       " 7,\n",
       " 7,\n",
       " 7,\n",
       " 7,\n",
       " 7,\n",
       " 7,\n",
       " 7,\n",
       " 7,\n",
       " 7,\n",
       " 7,\n",
       " 7,\n",
       " 7,\n",
       " 7,\n",
       " 7,\n",
       " 7,\n",
       " 7,\n",
       " 7,\n",
       " 7,\n",
       " 7,\n",
       " 7,\n",
       " 7,\n",
       " 7,\n",
       " 7,\n",
       " 7,\n",
       " 7,\n",
       " 7,\n",
       " 7]"
      ]
     },
     "execution_count": 49,
     "metadata": {},
     "output_type": "execute_result"
    }
   ],
   "source": [
    "Q, stepsToGoal = trainQ(100, 0.5, 0.7, validMoves, makeMove)\n",
    "stepsToGoal"
   ]
  },
  {
   "cell_type": "code",
   "execution_count": 50,
   "metadata": {},
   "outputs": [
    {
     "data": {
      "text/plain": [
       "[[[1, 2, 3], [], []],\n",
       " [[2, 3], [], [1]],\n",
       " [[3], [2], [1]],\n",
       " [[3], [1, 2], []],\n",
       " [[], [1, 2], [3]],\n",
       " [[1], [2], [3]],\n",
       " [[1], [], [2, 3]],\n",
       " [[], [], [1, 2, 3]]]"
      ]
     },
     "execution_count": 50,
     "metadata": {},
     "output_type": "execute_result"
    }
   ],
   "source": [
    "path = testQ(Q, 20, validMoves, makeMove)\n",
    "path\n",
    "#HIGHLY disturbing toggle between two states 20x, out of nowhere ????????????????????????????????????????????\n",
    "#doesn't repeat... ?_?"
   ]
  },
  {
   "cell_type": "code",
   "execution_count": 51,
   "metadata": {},
   "outputs": [
    {
     "name": "stdout",
     "output_type": "stream",
     "text": [
      " \u001b[1m  =  \u001b[0m    |      |   \n",
      " \u001b[1m === \u001b[0m    |      |   \n",
      "\u001b[4m \u001b[1m=====\u001b[0m\u001b[4m \u001b[4m   |  \u001b[4m \u001b[4m   |  \u001b[4m \u001b[0m \n",
      "\n",
      "   |      |      |   \n",
      " \u001b[1m === \u001b[0m    |      |   \n",
      "\u001b[4m \u001b[1m=====\u001b[0m\u001b[4m \u001b[4m   |  \u001b[4m \u001b[4m \u001b[1m  =  \u001b[0m\u001b[4m \u001b[0m \n",
      "\n",
      "   |      |      |   \n",
      "   |      |      |   \n",
      "\u001b[4m \u001b[1m=====\u001b[0m\u001b[4m \u001b[4m \u001b[1m === \u001b[0m\u001b[4m \u001b[4m \u001b[1m  =  \u001b[0m\u001b[4m \u001b[0m \n",
      "\n",
      "   |      |      |   \n",
      "   |    \u001b[1m  =  \u001b[0m    |   \n",
      "\u001b[4m \u001b[1m=====\u001b[0m\u001b[4m \u001b[4m \u001b[1m === \u001b[0m\u001b[4m \u001b[4m   |  \u001b[4m \u001b[0m \n",
      "\n",
      "   |      |      |   \n",
      "   |    \u001b[1m  =  \u001b[0m    |   \n",
      "\u001b[4m   |  \u001b[4m \u001b[4m \u001b[1m === \u001b[0m\u001b[4m \u001b[4m \u001b[1m=====\u001b[0m\u001b[4m \u001b[0m \n",
      "\n",
      "   |      |      |   \n",
      "   |      |      |   \n",
      "\u001b[4m \u001b[1m  =  \u001b[0m\u001b[4m \u001b[4m \u001b[1m === \u001b[0m\u001b[4m \u001b[4m \u001b[1m=====\u001b[0m\u001b[4m \u001b[0m \n",
      "\n",
      "   |      |      |   \n",
      "   |      |    \u001b[1m === \u001b[0m \n",
      "\u001b[4m \u001b[1m  =  \u001b[0m\u001b[4m \u001b[4m   |  \u001b[4m \u001b[4m \u001b[1m=====\u001b[0m\u001b[4m \u001b[0m \n",
      "\n",
      "   |      |    \u001b[1m  =  \u001b[0m \n",
      "   |      |    \u001b[1m === \u001b[0m \n",
      "\u001b[4m   |  \u001b[4m \u001b[4m   |  \u001b[4m \u001b[4m \u001b[1m=====\u001b[0m\u001b[4m \u001b[0m \n",
      "\n"
     ]
    }
   ],
   "source": [
    "for s in path:\n",
    "    printState(s)"
   ]
  },
  {
   "cell_type": "code",
   "execution_count": null,
   "metadata": {
    "collapsed": true
   },
   "outputs": [],
   "source": []
  },
  {
   "cell_type": "code",
   "execution_count": 50,
   "metadata": {},
   "outputs": [
    {
     "name": "stdout",
     "output_type": "stream",
     "text": [
      "\n",
      "Testing validMoves([[1], [2], [3]])\n",
      "\n",
      "--- 10/10 points. Correctly returned [[1, 2], [1, 3], [2, 3]]\n",
      "\n",
      "Testing validMoves([[], [], [1, 2, 3]])\n",
      "\n",
      "--- 10/10 points. Correctly returned [[3, 1], [3, 2]]\n",
      "\n",
      "Testing makeMove([[], [], [1, 2, 3]], [3, 2])\n",
      "\n",
      "--- 10/10 points. Correctly returned [[], [1], [2, 3]]\n",
      "\n",
      "Testing makeMove([[2], [3], [1]], [1, 2])\n",
      "\n",
      "--- 10/10 points. Correctly returned [[], [2, 3], [1]]\n",
      "\n",
      "Testing   Q, steps = trainQ(1000, 0.5, 0.7, validMoves, makeMove).\n",
      "\n",
      "--- 10/10 points. Q dictionary has correct number of entries.\n",
      "\n",
      "--- 10/10 points. The mean of the number of steps is 7.876 which is correct.\n",
      "\n",
      "Testing   path = testQ(Q, 20, validMoves, makeMove).\n",
      "\n",
      "--- 20/20 points. Correctly returns path of length 8, less than 10.\n",
      "\n",
      "C:\\Users\\joseph\\Google Drive\\CS 440-001 (Introduction to Artificial Intelligence)\\Assignments Execution Grade is 80/80\n",
      "\n",
      " Remaining 20 points will be based on your text describing the trainQ and test! functions.\n",
      "\n",
      "C:\\Users\\joseph\\Google Drive\\CS 440-001 (Introduction to Artificial Intelligence)\\Assignments FINAL GRADE is __/100\n"
     ]
    },
    {
     "data": {
      "text/plain": [
       "<matplotlib.figure.Figure at 0xd036123c50>"
      ]
     },
     "metadata": {},
     "output_type": "display_data"
    }
   ],
   "source": [
    "%run -i grader.py"
   ]
  },
  {
   "cell_type": "markdown",
   "metadata": {
    "collapsed": true
   },
   "source": [
    "# Extra Credit\n",
    "Modify your code to solve the Towers of Hanoi puzzle with 4 disks instead of 3. Name your functions\n",
    "\n",
    "- printState_4disk\n",
    "- validMoves_4disk\n",
    "- makeMove_4disk\n",
    "\n",
    "Find values for number of repetitions, learning rate, and epsilon decay factor for which trainQ learns a Q function that testQ can use to find the shortest solution path. Include the output from the successful calls to trainQ and testQ."
   ]
  },
  {
   "cell_type": "code",
   "execution_count": null,
   "metadata": {
    "collapsed": true
   },
   "outputs": [],
   "source": []
  },
  {
   "cell_type": "code",
   "execution_count": null,
   "metadata": {
    "collapsed": true
   },
   "outputs": [],
   "source": []
  },
  {
   "cell_type": "code",
   "execution_count": null,
   "metadata": {
    "collapsed": true
   },
   "outputs": [],
   "source": []
  },
  {
   "cell_type": "code",
   "execution_count": null,
   "metadata": {
    "collapsed": true
   },
   "outputs": [],
   "source": []
  }
 ],
 "metadata": {
  "kernelspec": {
   "display_name": "Python 3",
   "language": "python",
   "name": "python3"
  },
  "language_info": {
   "codemirror_mode": {
    "name": "ipython",
    "version": 3
   },
   "file_extension": ".py",
   "mimetype": "text/x-python",
   "name": "python",
   "nbconvert_exporter": "python",
   "pygments_lexer": "ipython3",
   "version": "3.6.1"
  }
 },
 "nbformat": 4,
 "nbformat_minor": 2
}
